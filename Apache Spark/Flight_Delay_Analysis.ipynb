{
 "cells": [
  {
   "cell_type": "markdown",
   "metadata": {},
   "source": [
    "# Group Assigment: C"
   ]
  },
  {
   "cell_type": "code",
   "execution_count": 1,
   "metadata": {},
   "outputs": [],
   "source": [
    "import findspark\n",
    "findspark.init()"
   ]
  },
  {
   "cell_type": "code",
   "execution_count": 2,
   "metadata": {},
   "outputs": [
    {
     "data": {
      "text/plain": [
       "'/opt/spark-2.4.4-bin-hadoop2.7'"
      ]
     },
     "execution_count": 2,
     "metadata": {},
     "output_type": "execute_result"
    }
   ],
   "source": [
    "findspark.find()\n",
    "import pyspark\n",
    "findspark.find()"
   ]
  },
  {
   "cell_type": "code",
   "execution_count": 3,
   "metadata": {},
   "outputs": [],
   "source": [
    "from pyspark import SparkContext, SparkConf\n",
    "from pyspark.sql import SparkSession\n",
    "\n",
    "conf = pyspark.SparkConf().setAppName('appName').setMaster('local[4]')\n",
    "sc = pyspark.SparkContext(conf=conf)\n",
    "spark = SparkSession(sc)"
   ]
  },
  {
   "cell_type": "code",
   "execution_count": 4,
   "metadata": {},
   "outputs": [],
   "source": [
    "from IPython.display import display, Markdown\n",
    "from pyspark.sql.functions import when, count, col, countDistinct, desc, first, lit, max, min, avg, stddev, mean\n",
    "import pyspark.sql.functions as f\n",
    "from pyspark.sql.types import IntegerType"
   ]
  },
  {
   "cell_type": "markdown",
   "metadata": {},
   "source": [
    "## Introduction to the Flights dataset"
   ]
  },
  {
   "cell_type": "markdown",
   "metadata": {},
   "source": [
    "According to a 2010 report made by the US Federal Aviation Administration, the economic price of domestic flight delays entails a yearly cost of 32.9 billion dollars to passengers, airlines and other parts of the economy. More than half of that amount comes from passengers' pockets, as they do not only waste time waiting for their planes to leave, but also miss connecting flights, spend money on food and have to sleep on hotel rooms while they're stranded.\n",
    "\n",
    "The report, focusing on data from year 2007, estimated that air transportation delays put a 4 billion dollar dent in the country's gross domestic product that year. Full report can be found \n",
    "<a href=\"http://www.isr.umd.edu/NEXTOR/pubs/TDI_Report_Final_10_18_10_V3.pdf\">here</a>.\n",
    "\n",
    "### But, are the causes of Delay related to the Morphology of the Arrival Airports?\n",
    "\n",
    "In order to answer this question, we are going to analyze the provided dataset, containing up to 1.936.758 different internal flights in the US for 2008 and their causes for delay, diversion and cancellation; if any.\n",
    "\n",
    "##### Disclaimer:\n",
    "*In this analysis, due to performance and capacity issues, we will utilize a sample of the original dataset containing 100,000 observations. For the purpose of this project, we will assume that this sample dataset is the whole population for flights that ocurred in 2008 (e.g. 100,000 will be the total number of flights for that year, rather than 1.936.758).*\n",
    "\n",
    "\n",
    "The data comes from the U.S. Department of Transportation's (DOT) Bureau of Transportation Statistics (BTS)\n",
    "\n",
    "This dataset is composed by the following variables:\n",
    "1. **Year** 2008\n",
    "2. **Month** 1\n",
    "3. **DayofMonth** 1-31\n",
    "4. **DayOfWeek** 1 (Monday) - 7 (Sunday)\n",
    "5. **DepTime** actual departure time (local, hhmm)\n",
    "6. **CRSDepTime** scheduled departure time (local, hhmm)\n",
    "7. **ArrTime** actual arrival time (local, hhmm)\n",
    "8. **CRSArrTime** scheduled arrival time (local, hhmm)\n",
    "9. **UniqueCarrie**r unique carrier code\n",
    "10. **FlightNum** flight number\n",
    "11. **TailNum** plane tail number: aircraft registration, unique aircraft identifier\n",
    "12. **ActualElapsedTime** in minutes\n",
    "13. **CRSElapsedTime** in minutes\n",
    "14. **AirTime** in minutes\n",
    "15. **ArrDelay** arrival delay, in minutes: A flight is counted as \"on time\" if it operated less than 15 minutes later the scheduled time shown in the carriers' Computerized Reservations Systems (CRS).\n",
    "16. **DepDelay** departure delay, in minutes\n",
    "17. **Origin** origin IATA airport code\n",
    "18. **Dest** destination IATA airport code\n",
    "19. **Distance** in miles\n",
    "20. **TaxiIn** taxi in time, in minutes\n",
    "21. **TaxiOut** taxi out time in minutes\n",
    "22. **Cancelled** *was the flight cancelled\n",
    "23. **CancellationCode** reason for cancellation (A = carrier, B = weather, C = NAS, D = security)\n",
    "24. **Diverted** 1 = yes, 0 = no\n",
    "25. **CarrierDelay** in minutes: Carrier delay is within the control of the air carrier. Examples of occurrences that may determine carrier delay are: aircraft cleaning, aircraft damage, awaiting the arrival of connecting passengers or crew, baggage, bird strike, cargo loading, catering, computer, outage-carrier equipment, crew legality (pilot or attendant rest), damage by hazardous goods, engineering inspection, fueling, handling disabled passengers, late crew, lavatory servicing, maintenance, oversales, potable water servicing, removal of unruly passenger, slow boarding or seating, stowing carry-on baggage, weight and balance delays.\n",
    "26. **WeatherDelay** in minutes: Weather delay is caused by extreme or hazardous weather conditions that are forecasted or manifest themselves on point of departure, enroute, or on point of arrival.\n",
    "27. **NASDelay** in minutes: Delay that is within the control of the National Airspace System (NAS) may include: non-extreme weather conditions, airport operations, heavy traffic volume, air traffic control, etc.\n",
    "28. **SecurityDelay** in minutes: Security delay is caused by evacuation of a terminal or concourse, re-boarding of aircraft because of security breach, inoperative screening equipment and/or long lines in excess of 29 minutes at screening areas.\n",
    "29. **LateAircraftDelay** in minutes: Arrival delay at an airport due to the late arrival of the same aircraft at a previous airport. The ripple effect of an earlier delay at downstream airports is referred to as delay propagation"
   ]
  },
  {
   "cell_type": "markdown",
   "metadata": {},
   "source": [
    "We will read the CSV file using Spark's default delimiter (\",\"). The first line contains the headers, hence we set the header option to true. We also set the InferSchema option to true so that Spark figures out the datatypes from the file."
   ]
  },
  {
   "cell_type": "code",
   "execution_count": 5,
   "metadata": {},
   "outputs": [],
   "source": [
    "# This does nothing: Spark is lazy so the read operation will be deferred until an action is executed\n",
    "df0 = spark.read\\\n",
    "            .option(\"header\", \"true\")\\\n",
    "            .option(\"inferSchema\", \"true\")\\\n",
    "            .csv(\"flights_jan08.csv\")"
   ]
  },
  {
   "cell_type": "code",
   "execution_count": 6,
   "metadata": {},
   "outputs": [
    {
     "name": "stdout",
     "output_type": "stream",
     "text": [
      "The Flights dataset has 29 columns\n",
      "The Flights dataset has 100000 rows\n"
     ]
    }
   ],
   "source": [
    "cols = len(df0.columns)\n",
    "print(\"The Flights dataset has\", cols, \"columns\")\n",
    "rows = df0.count()\n",
    "print(\"The Flights dataset has\", rows, \"rows\")"
   ]
  },
  {
   "cell_type": "markdown",
   "metadata": {},
   "source": [
    "We will create a new DataFrame by selecting the features that are of our interest to work with those, since we have several features that are irrelevant for our analysis:"
   ]
  },
  {
   "cell_type": "code",
   "execution_count": 7,
   "metadata": {},
   "outputs": [],
   "source": [
    "df = df0.select(\"DayOfweek\", \"AirTime\", \"ArrDelay\", \"DepDelay\", \"Origin\", \"Dest\", \"Distance\", \"CarrierDelay\", \"WeatherDelay\", \"NASDelay\", \"SecurityDelay\", \"LateAircraftDelay\")"
   ]
  },
  {
   "cell_type": "code",
   "execution_count": 8,
   "metadata": {},
   "outputs": [
    {
     "name": "stdout",
     "output_type": "stream",
     "text": [
      "root\n",
      " |-- DayOfweek: integer (nullable = true)\n",
      " |-- AirTime: string (nullable = true)\n",
      " |-- ArrDelay: string (nullable = true)\n",
      " |-- DepDelay: string (nullable = true)\n",
      " |-- Origin: string (nullable = true)\n",
      " |-- Dest: string (nullable = true)\n",
      " |-- Distance: integer (nullable = true)\n",
      " |-- CarrierDelay: string (nullable = true)\n",
      " |-- WeatherDelay: string (nullable = true)\n",
      " |-- NASDelay: string (nullable = true)\n",
      " |-- SecurityDelay: string (nullable = true)\n",
      " |-- LateAircraftDelay: string (nullable = true)\n",
      "\n"
     ]
    }
   ],
   "source": [
    "df.printSchema()"
   ]
  },
  {
   "cell_type": "markdown",
   "metadata": {},
   "source": [
    "We can see that some features such as Airtime, ArrDelay and DepDelay have been imported as Strings, even though they seem to be Numeric. We will try to get some insights on why were they imported as strings and an overall understanding of their values:"
   ]
  },
  {
   "cell_type": "code",
   "execution_count": 9,
   "metadata": {},
   "outputs": [
    {
     "name": "stdout",
     "output_type": "stream",
     "text": [
      "Summary of the main columns that we will focus on:\n",
      "+-------+-----------------+------------------+------------------+-----------------+\n",
      "|summary|          AirTime|          ArrDelay|          DepDelay|         Distance|\n",
      "+-------+-----------------+------------------+------------------+-----------------+\n",
      "|  count|           100000|            100000|            100000|           100000|\n",
      "|   mean| 91.8637966321506| 5.729954001094247|10.379048736571649|        630.58632|\n",
      "| stddev|54.20822434609608|30.966959272464596|28.384428068170926|437.3570752611298|\n",
      "|    min|              100|                -1|                -1|               66|\n",
      "|    25%|             53.0|              -9.0|              -2.0|              324|\n",
      "|    50%|             71.0|              -2.0|               1.0|              453|\n",
      "|    75%|            118.0|              10.0|              10.0|              843|\n",
      "|    max|               NA|                NA|                NA|             2363|\n",
      "+-------+-----------------+------------------+------------------+-----------------+\n",
      "\n"
     ]
    }
   ],
   "source": [
    "print (\"Summary of the main columns that we will focus on:\")\n",
    "df.select(\"AirTime\",\"ArrDelay\",\"DepDelay\",\"Distance\").summary().show()"
   ]
  },
  {
   "cell_type": "markdown",
   "metadata": {},
   "source": [
    "We can see that we have NA values for some of the features. We will first change the datatype for the features that should be encoded as Integers, and after that we will analyze what is the situation regarding Null / NA values:"
   ]
  },
  {
   "cell_type": "code",
   "execution_count": 10,
   "metadata": {},
   "outputs": [],
   "source": [
    "flights = df.withColumn(\"AirTimeTemp\", df.AirTime.cast(IntegerType()))\\\n",
    "    .withColumn(\"ArrDelayTemp\", df.ArrDelay.cast(IntegerType()))\\\n",
    "    .withColumn(\"DepDelayTemp\", df.DepDelay.cast(IntegerType()))\\\n",
    "    .withColumn(\"CarrierDelayTemp\", df.CarrierDelay.cast(IntegerType()))\\\n",
    "    .withColumn(\"WeatherDelayTemp\", df.WeatherDelay.cast(IntegerType()))\\\n",
    "    .withColumn(\"NASDelayTemp\", df.NASDelay.cast(IntegerType()))\\\n",
    "    .withColumn(\"SecurityDelayTemp\", df.SecurityDelay.cast(IntegerType()))\\\n",
    "    .withColumn(\"LateAircraftDelayTemp\", df.LateAircraftDelay.cast(IntegerType()))\\\n",
    "    .drop(\"AirTime\")\\\n",
    "    .drop(\"ArrDelay\")\\\n",
    "    .drop(\"DepDelay\")\\\n",
    "    .drop(\"CarrierDelay\")\\\n",
    "    .drop(\"WeatherDelay\")\\\n",
    "    .drop(\"NASDelay\")\\\n",
    "    .drop(\"SecurityDelay\")\\\n",
    "    .drop(\"LateAircraftDelay\")\\\n",
    "    .withColumnRenamed(\"AirTimeTemp\", \"AirTime\")\\\n",
    "    .withColumnRenamed(\"ArrDelayTemp\", \"ArrDelay\")\\\n",
    "    .withColumnRenamed(\"DepDelayTemp\", \"DepDelay\")\\\n",
    "    .withColumnRenamed(\"CarrierDelayTemp\", \"CarrierDelay\")\\\n",
    "    .withColumnRenamed(\"WeatherDelayTemp\", \"WeatherDelay\")\\\n",
    "    .withColumnRenamed(\"NASDelayTemp\", \"NASDelay\")\\\n",
    "    .withColumnRenamed(\"SecurityDelayTemp\", \"SecurityDelay\")\\\n",
    "    .withColumnRenamed(\"LateAircraftDelayTemp\", \"PriorDelay\")"
   ]
  },
  {
   "cell_type": "code",
   "execution_count": 11,
   "metadata": {},
   "outputs": [
    {
     "name": "stdout",
     "output_type": "stream",
     "text": [
      "root\n",
      " |-- DayOfweek: integer (nullable = true)\n",
      " |-- Origin: string (nullable = true)\n",
      " |-- Dest: string (nullable = true)\n",
      " |-- Distance: integer (nullable = true)\n",
      " |-- AirTime: integer (nullable = true)\n",
      " |-- ArrDelay: integer (nullable = true)\n",
      " |-- DepDelay: integer (nullable = true)\n",
      " |-- CarrierDelay: integer (nullable = true)\n",
      " |-- WeatherDelay: integer (nullable = true)\n",
      " |-- NASDelay: integer (nullable = true)\n",
      " |-- SecurityDelay: integer (nullable = true)\n",
      " |-- PriorDelay: integer (nullable = true)\n",
      "\n"
     ]
    }
   ],
   "source": [
    "flights.cache()\n",
    "flights.printSchema()"
   ]
  },
  {
   "cell_type": "code",
   "execution_count": 12,
   "metadata": {},
   "outputs": [
    {
     "name": "stdout",
     "output_type": "stream",
     "text": [
      "Summary of the main columns that we will focus on:\n",
      "+-------+-----------------+------------------+------------------+-----------------+\n",
      "|summary|          AirTime|          ArrDelay|          DepDelay|         Distance|\n",
      "+-------+-----------------+------------------+------------------+-----------------+\n",
      "|  count|            98698|             98698|             98858|           100000|\n",
      "|   mean| 91.8637966321506| 5.729954001094247|10.379048736571649|        630.58632|\n",
      "| stddev|54.20822434609608|30.966959272464596|28.384428068170926|437.3570752611298|\n",
      "|    min|               12|               -57|               -44|               66|\n",
      "|    25%|               53|                -9|                -2|              324|\n",
      "|    50%|               71|                -2|                 1|              453|\n",
      "|    75%|              118|                10|                10|              843|\n",
      "|    max|              369|               500|               516|             2363|\n",
      "+-------+-----------------+------------------+------------------+-----------------+\n",
      "\n"
     ]
    }
   ],
   "source": [
    "print (\"Summary of the main columns that we will focus on:\")\n",
    "flights.select(\"AirTime\",\"ArrDelay\",\"DepDelay\",\"Distance\").summary().show()"
   ]
  },
  {
   "cell_type": "markdown",
   "metadata": {},
   "source": [
    "Ok, the datatypes have been correctly modified. \n",
    "#### We will get the number of yearly arrival flights per each Destination Airport and save it in a new DataFrame, since we will need it for posterior analysis:"
   ]
  },
  {
   "cell_type": "code",
   "execution_count": 13,
   "metadata": {},
   "outputs": [
    {
     "name": "stdout",
     "output_type": "stream",
     "text": [
      "+----+----------+\n",
      "|Dest|NumFlights|\n",
      "+----+----------+\n",
      "| LAS|      6734|\n",
      "| MDW|      6255|\n",
      "| PHX|      5513|\n",
      "| BWI|      4691|\n",
      "| OAK|      3916|\n",
      "| HOU|      3898|\n",
      "| DAL|      3594|\n",
      "| LAX|      3382|\n",
      "| SAN|      3327|\n",
      "| MCO|      3258|\n",
      "| SMF|      2639|\n",
      "| TPA|      2347|\n",
      "| BNA|      2343|\n",
      "| ONT|      2249|\n",
      "| MCI|      2231|\n",
      "| SJC|      2187|\n",
      "| ABQ|      2085|\n",
      "| STL|      2010|\n",
      "| PHL|      1703|\n",
      "| BUR|      1674|\n",
      "+----+----------+\n",
      "only showing top 20 rows\n",
      "\n"
     ]
    }
   ],
   "source": [
    "num_flights = flights\\\n",
    "                    .groupBy(\"Dest\").agg(f.count(\"Dest\").alias(\"NumFlights\"))\\\n",
    "                    .orderBy(\"NumFlights\", ascending=False)\n",
    "\n",
    "num_flights.show()"
   ]
  },
  {
   "cell_type": "markdown",
   "metadata": {},
   "source": [
    "Let's try to get some insights regarding the NULL values that appeared on the Summary for some of the columns:"
   ]
  },
  {
   "cell_type": "code",
   "execution_count": 14,
   "metadata": {},
   "outputs": [
    {
     "name": "stdout",
     "output_type": "stream",
     "text": [
      "Checking for nulls on the columns that we will work with:\n",
      "+---------+-------+--------+--------+------+----+--------+------------+------------+--------+-------------+----------+\n",
      "|DayOfweek|AirTime|ArrDelay|DepDelay|Origin|Dest|Distance|CarrierDelay|WeatherDelay|NASDelay|SecurityDelay|PriorDelay|\n",
      "+---------+-------+--------+--------+------+----+--------+------------+------------+--------+-------------+----------+\n",
      "|        0|   1302|    1302|    1142|     0|   0|       0|       80371|       80371|   80371|        80371|     80371|\n",
      "+---------+-------+--------+--------+------+----+--------+------------+------------+--------+-------------+----------+\n",
      "\n"
     ]
    }
   ],
   "source": [
    "print(\"Checking for nulls on the columns that we will work with:\")\n",
    "flights.select([count(when(col(c).isNull(), c)).alias(c) for c in [\"DayOfweek\", \"AirTime\", \"ArrDelay\", \"DepDelay\", \"Origin\", \"Dest\", \"Distance\", \"CarrierDelay\", \"WeatherDelay\", \"NASDelay\", \"SecurityDelay\", \"PriorDelay\"]]).show()"
   ]
  },
  {
   "cell_type": "code",
   "execution_count": 15,
   "metadata": {},
   "outputs": [
    {
     "name": "stdout",
     "output_type": "stream",
     "text": [
      "+---------+------+----+--------+-------+--------+--------+------------+------------+--------+-------------+----------+\n",
      "|DayOfweek|Origin|Dest|Distance|AirTime|ArrDelay|DepDelay|CarrierDelay|WeatherDelay|NASDelay|SecurityDelay|PriorDelay|\n",
      "+---------+------+----+--------+-------+--------+--------+------------+------------+--------+-------------+----------+\n",
      "|        4|   IAD| TPA|     810|    116|     -14|       8|        null|        null|    null|         null|      null|\n",
      "|        4|   IAD| TPA|     810|    113|       2|      19|        null|        null|    null|         null|      null|\n",
      "|        4|   IND| BWI|     515|     76|      14|       8|        null|        null|    null|         null|      null|\n",
      "|        4|   IND| BWI|     515|     78|      -6|      -4|        null|        null|    null|         null|      null|\n",
      "|        4|   IND| BWI|     515|     77|      34|      34|           2|           0|       0|            0|        32|\n",
      "+---------+------+----+--------+-------+--------+--------+------------+------------+--------+-------------+----------+\n",
      "only showing top 5 rows\n",
      "\n"
     ]
    }
   ],
   "source": [
    "flights.show(5)"
   ]
  },
  {
   "cell_type": "markdown",
   "metadata": {},
   "source": [
    "As we can see, we have a lot of Null values in the features that describe the reason of the delay: CarrierDelay, WeatherDelay, NASDelay, SecurityDelay, PriorDelay. We assume that the Null values for this features are present in cases where ArrDelay is lower than 15 min (therefore not considered as a delay) + rows where ArrDelay is Null. Let's confirm:"
   ]
  },
  {
   "cell_type": "code",
   "execution_count": 16,
   "metadata": {},
   "outputs": [
    {
     "name": "stdout",
     "output_type": "stream",
     "text": [
      "Checking number of delays with null values:\n",
      "+--------+------------+------------+--------+-------------+----------+\n",
      "|ArrDelay|CarrierDelay|WeatherDelay|NASDelay|SecurityDelay|PriorDelay|\n",
      "+--------+------------+------------+--------+-------------+----------+\n",
      "|    1302|        1302|        1302|    1302|         1302|      1302|\n",
      "+--------+------------+------------+--------+-------------+----------+\n",
      "\n"
     ]
    }
   ],
   "source": [
    "print(\"Checking number of delays with null values:\")\n",
    "flights.select([count(when(col(\"ArrDelay\").isNull(), c)).alias(c) for c in [\"ArrDelay\",\"CarrierDelay\", \"WeatherDelay\", \"NASDelay\", \"SecurityDelay\", \"PriorDelay\"]]).show()"
   ]
  },
  {
   "cell_type": "code",
   "execution_count": 17,
   "metadata": {},
   "outputs": [
    {
     "name": "stdout",
     "output_type": "stream",
     "text": [
      "Checking number of delays lower than 15 min:\n",
      "+--------+------------+------------+--------+-------------+----------+\n",
      "|ArrDelay|CarrierDelay|WeatherDelay|NASDelay|SecurityDelay|PriorDelay|\n",
      "+--------+------------+------------+--------+-------------+----------+\n",
      "|   79069|       79069|       79069|   79069|        79069|     79069|\n",
      "+--------+------------+------------+--------+-------------+----------+\n",
      "\n"
     ]
    }
   ],
   "source": [
    "print(\"Checking number of delays lower than 15 min:\")\n",
    "flights.select([count(when(col(\"ArrDelay\") < 15, c)).alias(c) for c in [\"ArrDelay\",\"CarrierDelay\", \"WeatherDelay\", \"NASDelay\", \"SecurityDelay\", \"PriorDelay\"]]).show()\n"
   ]
  },
  {
   "cell_type": "markdown",
   "metadata": {},
   "source": [
    "Ok, we have confirmed that the sum of Null values + the delays that are lower than 15 min in ArrDelay, equals the Null values that we have for the descriptive columns (1302 + 79,069 = 80,371). Let's confirm the difference (100,000 - 80,371 = 19,629):"
   ]
  },
  {
   "cell_type": "code",
   "execution_count": 18,
   "metadata": {},
   "outputs": [
    {
     "name": "stdout",
     "output_type": "stream",
     "text": [
      "Checking number of delays higher or equal than 15 min:\n",
      "+--------+------------+------------+--------+-------------+----------+\n",
      "|ArrDelay|CarrierDelay|WeatherDelay|NASDelay|SecurityDelay|PriorDelay|\n",
      "+--------+------------+------------+--------+-------------+----------+\n",
      "|   19629|       19629|       19629|   19629|        19629|     19629|\n",
      "+--------+------------+------------+--------+-------------+----------+\n",
      "\n"
     ]
    }
   ],
   "source": [
    "print(\"Checking number of delays higher or equal than 15 min:\")\n",
    "flights.select([count(when(col(\"ArrDelay\") >= 15, c)).alias(c) for c in [\"ArrDelay\", \"CarrierDelay\", \"WeatherDelay\", \"NASDelay\", \"SecurityDelay\", \"PriorDelay\"]]).show()"
   ]
  },
  {
   "cell_type": "markdown",
   "metadata": {},
   "source": [
    "Now that we have a better understanding of the data, we will create a new DataFrame with the following filters: \n",
    "\n",
    "- Keep only the flights considered as actual delays (ArrDelay > 15)\n",
    "- Removing NA values for ArrDelay column, since we cannot get any insight from those"
   ]
  },
  {
   "cell_type": "code",
   "execution_count": 19,
   "metadata": {},
   "outputs": [],
   "source": [
    "flightsOK = flights\\\n",
    "            .dropna(subset=[\"ArrDelay\"])\\\n",
    "            .where(f.col(\"ArrDelay\") >= 15)"
   ]
  },
  {
   "cell_type": "code",
   "execution_count": 20,
   "metadata": {},
   "outputs": [
    {
     "name": "stdout",
     "output_type": "stream",
     "text": [
      "root\n",
      " |-- DayOfweek: integer (nullable = true)\n",
      " |-- Origin: string (nullable = true)\n",
      " |-- Dest: string (nullable = true)\n",
      " |-- Distance: integer (nullable = true)\n",
      " |-- AirTime: integer (nullable = true)\n",
      " |-- ArrDelay: integer (nullable = true)\n",
      " |-- DepDelay: integer (nullable = true)\n",
      " |-- CarrierDelay: integer (nullable = true)\n",
      " |-- WeatherDelay: integer (nullable = true)\n",
      " |-- NASDelay: integer (nullable = true)\n",
      " |-- SecurityDelay: integer (nullable = true)\n",
      " |-- PriorDelay: integer (nullable = true)\n",
      "\n"
     ]
    }
   ],
   "source": [
    "flightsOK.printSchema()"
   ]
  },
  {
   "cell_type": "code",
   "execution_count": 21,
   "metadata": {},
   "outputs": [
    {
     "name": "stdout",
     "output_type": "stream",
     "text": [
      "+---------+------+----+--------+-------+--------+--------+------------+------------+--------+-------------+----------+\n",
      "|DayOfweek|Origin|Dest|Distance|AirTime|ArrDelay|DepDelay|CarrierDelay|WeatherDelay|NASDelay|SecurityDelay|PriorDelay|\n",
      "+---------+------+----+--------+-------+--------+--------+------------+------------+--------+-------------+----------+\n",
      "|        4|   IND| BWI|     515|     77|      34|      34|           2|           0|       0|            0|        32|\n",
      "|        4|   IND| LAS|    1591|    230|      57|      67|          10|           0|       0|            0|        47|\n",
      "|        4|   IND| MCO|     828|    107|      80|      94|           8|           0|       0|            0|        72|\n",
      "|        4|   IND| PHX|    1489|    213|      15|      27|           3|           0|       0|            0|        12|\n",
      "|        4|   IND| TPA|     838|    110|      16|      28|           0|           0|       0|            0|        16|\n",
      "+---------+------+----+--------+-------+--------+--------+------------+------------+--------+-------------+----------+\n",
      "only showing top 5 rows\n",
      "\n"
     ]
    }
   ],
   "source": [
    "flightsOK.show(5)"
   ]
  },
  {
   "cell_type": "markdown",
   "metadata": {},
   "source": [
    "We have now created a subset DataFrame containing the actual flights that are considered delayed (> 15 min), and the features that are relevant for our analysis. Let's start working with it:"
   ]
  },
  {
   "cell_type": "code",
   "execution_count": 22,
   "metadata": {},
   "outputs": [
    {
     "data": {
      "text/plain": [
       "19629"
      ]
     },
     "execution_count": 22,
     "metadata": {},
     "output_type": "execute_result"
    }
   ],
   "source": [
    "flightsOK.count()"
   ]
  },
  {
   "cell_type": "markdown",
   "metadata": {},
   "source": [
    "We will create a new feature called \"DelaySeverity\" that allows us to categorize and evaluate the impact of the flight delay. It will be categorized as follows:\n",
    "\n",
    "Delays between 15 and 30 min. categorized as \"Annoying\":    1\n",
    "\n",
    "Delays between 30 and 60 min. Categorized as \"Impactful\":   2\n",
    "\n",
    "Delays that are above 60 min. Categorized as \"Unacceptable\": 3"
   ]
  },
  {
   "cell_type": "code",
   "execution_count": 23,
   "metadata": {},
   "outputs": [],
   "source": [
    "\n",
    "delayed_flights = flightsOK\\\n",
    "   .withColumn(\"DelaySeverity\", when((col(\"ArrDelay\")>15) & (col(\"ArrDelay\")<=30), 1)\\\n",
    "                               .when((col(\"ArrDelay\")>30) & (col(\"ArrDelay\")<=60), 2)\\\n",
    "                               .otherwise(3))"
   ]
  },
  {
   "cell_type": "code",
   "execution_count": 24,
   "metadata": {},
   "outputs": [
    {
     "name": "stdout",
     "output_type": "stream",
     "text": [
      "+---------+------+----+--------+-------+--------+--------+------------+------------+--------+-------------+----------+-------------+\n",
      "|DayOfweek|Origin|Dest|Distance|AirTime|ArrDelay|DepDelay|CarrierDelay|WeatherDelay|NASDelay|SecurityDelay|PriorDelay|DelaySeverity|\n",
      "+---------+------+----+--------+-------+--------+--------+------------+------------+--------+-------------+----------+-------------+\n",
      "|        4|   IND| BWI|     515|     77|      34|      34|           2|           0|       0|            0|        32|            2|\n",
      "|        4|   IND| LAS|    1591|    230|      57|      67|          10|           0|       0|            0|        47|            2|\n",
      "|        4|   IND| MCO|     828|    107|      80|      94|           8|           0|       0|            0|        72|            3|\n",
      "|        4|   IND| PHX|    1489|    213|      15|      27|           3|           0|       0|            0|        12|            3|\n",
      "|        4|   IND| TPA|     838|    110|      16|      28|           0|           0|       0|            0|        16|            1|\n",
      "+---------+------+----+--------+-------+--------+--------+------------+------------+--------+-------------+----------+-------------+\n",
      "only showing top 5 rows\n",
      "\n"
     ]
    }
   ],
   "source": [
    "delayed_flights.show(5)"
   ]
  },
  {
   "cell_type": "markdown",
   "metadata": {},
   "source": [
    "#### Importing a DataFrame that contains relevant features of each Airport:"
   ]
  },
  {
   "cell_type": "code",
   "execution_count": 25,
   "metadata": {},
   "outputs": [],
   "source": [
    "Airports = spark.read\\\n",
    "            .option(\"header\", \"true\")\\\n",
    "            .option(\"inferSchema\", \"true\")\\\n",
    "            .csv(\"airports_delay.csv\")"
   ]
  },
  {
   "cell_type": "code",
   "execution_count": 26,
   "metadata": {},
   "outputs": [
    {
     "name": "stdout",
     "output_type": "stream",
     "text": [
      "+-----------+-------------+------------+----------+---------------+----------------+------------+--------+\n",
      "|AirportCode|         City|       State|NumRunways|AvgRunwayLength|ConstructionYear|NumTerminals|NumGates|\n",
      "+-----------+-------------+------------+----------+---------------+----------------+------------+--------+\n",
      "|        ABQ|   Bernalillo|Nuevo México|         3|           3000|            1939|           3|      25|\n",
      "|        ALB|       Albany|    New York|         2|           2393|            1996|           1|       5|\n",
      "|        AMA|     Amarillo|       Texas|         2|           3261|            1929|           1|       7|\n",
      "|        AUS|       Austin|       Texas|         2|           3200|            1999|           2|      25|\n",
      "|        BDL|Windsor Locks| Connecticut|         3|           2000|            1947|           1|      30|\n",
      "|        BFL|      Oildale|  California|         2|           2800|            1957|           2|       4|\n",
      "|        BHM|   Birmingham|     Alabama|         2|           2890|            1931|           2|      15|\n",
      "|        BNA|     Nasville|   Tennessee|         4|           2600|            1937|           1|      45|\n",
      "|        BOI|        Boise|       Idaho|         2|           3012|            1926|           1|      21|\n",
      "|        BUF|  Cheektowaga|    New York|         2|           2437|            1997|           1|      15|\n",
      "+-----------+-------------+------------+----------+---------------+----------------+------------+--------+\n",
      "only showing top 10 rows\n",
      "\n"
     ]
    }
   ],
   "source": [
    "Airports.show(10)"
   ]
  },
  {
   "cell_type": "markdown",
   "metadata": {},
   "source": [
    "Join the new imported data set with the previously cleaned delayed_flights dataset.\n",
    "The join will be executed through the Destination column in the flights dataset and the Ariport Code column from the new one."
   ]
  },
  {
   "cell_type": "code",
   "execution_count": 27,
   "metadata": {},
   "outputs": [],
   "source": [
    "Airport_join = delayed_flights.join(Airports, delayed_flights.Dest == Airports.AirportCode)"
   ]
  },
  {
   "cell_type": "code",
   "execution_count": 28,
   "metadata": {},
   "outputs": [
    {
     "name": "stdout",
     "output_type": "stream",
     "text": [
      "root\n",
      " |-- DayOfweek: integer (nullable = true)\n",
      " |-- Origin: string (nullable = true)\n",
      " |-- Dest: string (nullable = true)\n",
      " |-- Distance: integer (nullable = true)\n",
      " |-- AirTime: integer (nullable = true)\n",
      " |-- ArrDelay: integer (nullable = true)\n",
      " |-- DepDelay: integer (nullable = true)\n",
      " |-- CarrierDelay: integer (nullable = true)\n",
      " |-- WeatherDelay: integer (nullable = true)\n",
      " |-- NASDelay: integer (nullable = true)\n",
      " |-- SecurityDelay: integer (nullable = true)\n",
      " |-- PriorDelay: integer (nullable = true)\n",
      " |-- DelaySeverity: integer (nullable = false)\n",
      " |-- AirportCode: string (nullable = true)\n",
      " |-- City: string (nullable = true)\n",
      " |-- State: string (nullable = true)\n",
      " |-- NumRunways: integer (nullable = true)\n",
      " |-- AvgRunwayLength: integer (nullable = true)\n",
      " |-- ConstructionYear: integer (nullable = true)\n",
      " |-- NumTerminals: integer (nullable = true)\n",
      " |-- NumGates: integer (nullable = true)\n",
      "\n"
     ]
    }
   ],
   "source": [
    "Airport_join.printSchema()"
   ]
  },
  {
   "cell_type": "markdown",
   "metadata": {},
   "source": [
    "Because the Destination and Airport Code have the same info, we only keep Airport Code:"
   ]
  },
  {
   "cell_type": "code",
   "execution_count": 29,
   "metadata": {},
   "outputs": [],
   "source": [
    "Airport_join = Airport_join.drop(\"Dest\")"
   ]
  },
  {
   "cell_type": "markdown",
   "metadata": {},
   "source": [
    "To this dataset, we will add the number of flights dataset extracted from our original flights csv. \n",
    "\n",
    "We drop the Destination column again to not have it duplicated:"
   ]
  },
  {
   "cell_type": "code",
   "execution_count": 30,
   "metadata": {},
   "outputs": [],
   "source": [
    "CompleteDF = Airport_join.join(num_flights, Airport_join.AirportCode == num_flights.Dest)"
   ]
  },
  {
   "cell_type": "code",
   "execution_count": 31,
   "metadata": {},
   "outputs": [],
   "source": [
    "CompleteDF = CompleteDF.drop(\"Dest\")"
   ]
  },
  {
   "cell_type": "markdown",
   "metadata": {},
   "source": [
    "Select the important columns we will like to work with for our analysis:"
   ]
  },
  {
   "cell_type": "code",
   "execution_count": 32,
   "metadata": {},
   "outputs": [],
   "source": [
    "CompleteDF = CompleteDF.select(\"AirportCode\", \"ArrDelay\", \"DelaySeverity\", \"City\", \"State\", \"NumFlights\", \"NumTerminals\", \"ConstructionYear\", \"NumGates\", \"NumRunways\", \"AvgRunwayLength\", \"Origin\", \"Distance\", \"AirTime\", \"DepDelay\", \"CarrierDelay\", \"WeatherDelay\", \"NASDelay\", \"SecurityDelay\", \"PriorDelay\", \"DayOfweek\")"
   ]
  },
  {
   "cell_type": "code",
   "execution_count": 33,
   "metadata": {},
   "outputs": [
    {
     "name": "stdout",
     "output_type": "stream",
     "text": [
      "root\n",
      " |-- AirportCode: string (nullable = true)\n",
      " |-- ArrDelay: integer (nullable = true)\n",
      " |-- DelaySeverity: integer (nullable = false)\n",
      " |-- City: string (nullable = true)\n",
      " |-- State: string (nullable = true)\n",
      " |-- NumFlights: long (nullable = false)\n",
      " |-- NumTerminals: integer (nullable = true)\n",
      " |-- ConstructionYear: integer (nullable = true)\n",
      " |-- NumGates: integer (nullable = true)\n",
      " |-- NumRunways: integer (nullable = true)\n",
      " |-- AvgRunwayLength: integer (nullable = true)\n",
      " |-- Origin: string (nullable = true)\n",
      " |-- Distance: integer (nullable = true)\n",
      " |-- AirTime: integer (nullable = true)\n",
      " |-- DepDelay: integer (nullable = true)\n",
      " |-- CarrierDelay: integer (nullable = true)\n",
      " |-- WeatherDelay: integer (nullable = true)\n",
      " |-- NASDelay: integer (nullable = true)\n",
      " |-- SecurityDelay: integer (nullable = true)\n",
      " |-- PriorDelay: integer (nullable = true)\n",
      " |-- DayOfweek: integer (nullable = true)\n",
      "\n"
     ]
    }
   ],
   "source": [
    "CompleteDF.printSchema()"
   ]
  },
  {
   "cell_type": "markdown",
   "metadata": {},
   "source": [
    "Let's cache our final dataset, to keep it in memory for faster executions:"
   ]
  },
  {
   "cell_type": "code",
   "execution_count": 34,
   "metadata": {},
   "outputs": [
    {
     "name": "stdout",
     "output_type": "stream",
     "text": [
      "+-----------+--------+-------------+----------------+----------+------------+----------+--------+----------------+\n",
      "|AirportCode|ArrDelay|DelaySeverity|            City|NumFlights|NumTerminals|NumRunways|NumGates|ConstructionYear|\n",
      "+-----------+--------+-------------+----------------+----------+------------+----------+--------+----------------+\n",
      "|        BWI|      34|            2|      Washington|      4691|           4|         4|      73|            1947|\n",
      "|        LAS|      57|            2|       Las Vegas|      6734|           2|         4|     110|            1942|\n",
      "|        MCO|      80|            3|         Orlando|      3258|           2|         5|     129|            1981|\n",
      "|        PHX|      15|            3|         Phoenix|      5513|           3|         3|     100|            1952|\n",
      "|        TPA|      16|            1|           Tampa|      2347|           4|         3|      16|            1971|\n",
      "|        BWI|      37|            2|      Washington|      4691|           4|         4|      73|            1947|\n",
      "|        BWI|      19|            1|      Washington|      4691|           4|         4|      73|            1947|\n",
      "|        FLL|      47|            2|Fourt Lauderdale|      1232|           5|         2|      63|            1929|\n",
      "|        MCO|      64|            3|         Orlando|      3258|           2|         5|     129|            1981|\n",
      "|        MDW|      72|            3|         Chicago|      6255|           3|         5|      43|            1927|\n",
      "|        PBI|      29|            1|      Palm Beach|       356|           3|         3|      28|            1936|\n",
      "|        BWI|      21|            1|      Washington|      4691|           4|         4|      73|            1947|\n",
      "|        HOU|     304|            3|        Houston |      3898|           2|         4|      30|            1969|\n",
      "|        HOU|      35|            2|        Houston |      3898|           2|         4|      30|            1969|\n",
      "|        MCO|      49|            2|         Orlando|      3258|           2|         5|     129|            1981|\n",
      "|        MDW|      38|            2|         Chicago|      6255|           3|         5|      43|            1927|\n",
      "|        BHM|      19|            1|      Birmingham|       809|           2|         2|      15|            1931|\n",
      "|        BNA|      30|            1|        Nasville|      2343|           1|         4|      45|            1937|\n",
      "|        BNA|      26|            1|        Nasville|      2343|           1|         4|      45|            1937|\n",
      "|        HOU|      31|            2|        Houston |      3898|           2|         4|      30|            1969|\n",
      "+-----------+--------+-------------+----------------+----------+------------+----------+--------+----------------+\n",
      "only showing top 20 rows\n",
      "\n"
     ]
    }
   ],
   "source": [
    "CompleteDF.cache()\n",
    "CompleteDF\\\n",
    "        .select(\"AirportCode\", \"ArrDelay\", \"DelaySeverity\", \"City\", \"NumFlights\", \"NumTerminals\", \"NumRunways\", \"NumGates\", \"ConstructionYear\").show()"
   ]
  },
  {
   "cell_type": "markdown",
   "metadata": {},
   "source": [
    "### BUSINESS ANALYSIS: Arrival Delays related to the morphology of the arrival airports"
   ]
  },
  {
   "cell_type": "markdown",
   "metadata": {},
   "source": [
    "Now that we have the dataset ready for our business analysis, we will answer several questions regarding this topic."
   ]
  },
  {
   "cell_type": "markdown",
   "metadata": {},
   "source": [
    "#### 1. Is there a relation between the year the airport was built and the number of flights arriving to it?"
   ]
  },
  {
   "cell_type": "code",
   "execution_count": 35,
   "metadata": {},
   "outputs": [
    {
     "name": "stdout",
     "output_type": "stream",
     "text": [
      "Average Number of Fligths for the 25 oldest airports:\n",
      "+-----------+----------------+---------------+\n",
      "|AirportCode|ConstructionYear|avg(NumFlights)|\n",
      "+-----------+----------------+---------------+\n",
      "|        OKC|            1911|          848.0|\n",
      "|        DAL|            1917|         3594.0|\n",
      "|        TUL|            1919|          685.0|\n",
      "|        TUS|            1919|          926.0|\n",
      "|        LGB|            1923|          138.0|\n",
      "|        CLE|            1925|          498.0|\n",
      "|        JAX|            1926|          808.0|\n",
      "|        BOI|            1926|          643.0|\n",
      "|        PDX|            1926|         1171.0|\n",
      "|        DTW|            1927|          570.0|\n",
      "|        SFO|            1927|          743.0|\n",
      "|        COS|            1927|          183.0|\n",
      "|        GSO|            1927|            2.0|\n",
      "|        ROC|            1927|            1.0|\n",
      "|        MHT|            1927|          848.0|\n",
      "|        MDW|            1927|         6255.0|\n",
      "|        OAK|            1927|         3916.0|\n",
      "|        EWR|            1928|            9.0|\n",
      "|        ELP|            1928|          973.0|\n",
      "|        LAX|            1928|         3382.0|\n",
      "|        JAN|            1928|          244.0|\n",
      "|        SNA|            1928|         1058.0|\n",
      "|        SAN|            1928|         3327.0|\n",
      "|        FLL|            1929|         1232.0|\n",
      "|        PVD|            1929|          937.0|\n",
      "+-----------+----------------+---------------+\n",
      "only showing top 25 rows\n",
      "\n"
     ]
    }
   ],
   "source": [
    "print(\"Average Number of Fligths for the 25 oldest airports:\")\n",
    "CompleteDF.groupBy(\"AirportCode\", \"ConstructionYear\")\\\n",
    "            .agg(avg(\"NumFlights\"))\\\n",
    "            .orderBy(\"ConstructionYear\").show(25)"
   ]
  },
  {
   "cell_type": "code",
   "execution_count": 36,
   "metadata": {},
   "outputs": [
    {
     "name": "stdout",
     "output_type": "stream",
     "text": [
      "Average Number of Fligths for the 25 newest airports:\n",
      "+-----------+----------------+---------------+\n",
      "|AirportCode|ConstructionYear|avg(NumFlights)|\n",
      "+-----------+----------------+---------------+\n",
      "|        MYR|            2013|            1.0|\n",
      "|        MAF|            1999|          319.0|\n",
      "|        AUS|            1999|         1620.0|\n",
      "|        BUF|            1997|          475.0|\n",
      "|        ALB|            1996|          388.0|\n",
      "|        DEN|            1995|         1589.0|\n",
      "|        SAV|            1994|            1.0|\n",
      "|        IAH|            1990|           13.0|\n",
      "|        MCO|            1981|         3258.0|\n",
      "|        RSW|            1980|          317.0|\n",
      "|        MCI|            1972|         2231.0|\n",
      "|        TPA|            1971|         2347.0|\n",
      "|        HOU|            1969|         3898.0|\n",
      "|        HRL|            1967|          312.0|\n",
      "|        SMF|            1967|         2639.0|\n",
      "|        SJC|            1965|         2187.0|\n",
      "|        IAD|            1962|          308.0|\n",
      "|        CRP|            1960|          152.0|\n",
      "|        MSY|            1959|         1258.0|\n",
      "|        BFL|            1957|           62.0|\n",
      "|        STL|            1956|         2010.0|\n",
      "|        PHX|            1952|         5513.0|\n",
      "|        PIT|            1952|          640.0|\n",
      "|        ISP|            1949|          790.0|\n",
      "|        BDL|            1947|          522.0|\n",
      "+-----------+----------------+---------------+\n",
      "only showing top 25 rows\n",
      "\n"
     ]
    }
   ],
   "source": [
    "print(\"Average Number of Fligths for the 25 newest airports:\")\n",
    "CompleteDF.groupBy(\"AirportCode\", \"ConstructionYear\")\\\n",
    "            .agg(avg(\"NumFlights\"))\\\n",
    "            .orderBy(\"ConstructionYear\", ascending = False).show(25)"
   ]
  },
  {
   "cell_type": "markdown",
   "metadata": {},
   "source": [
    "#### Conclusions to Q1:\n",
    "    \n",
    "Looking at both queries, we can see that there is no aparent relation between the number of flights per airport and the year of construction.\n",
    "\n",
    "If we look deeper in our data, there are some insights to extract: \n",
    "\n",
    "- There has only been 8 airports constructed in the last 30 years. It makes sense that these 8 airports receive less flights.\n",
    "- During the second decade of the 20th century, the air transportation industry experienced a huge boom: 26 out of the 76 analyzed US airports were constructed in these 10 years.\n",
    "    - This decade corresponds to the end of World War I. Before this time, the airports were focused on military transportation. At this point the commercial flights started to develop, and there is a clear example of this in the years of constructions of this airports."
   ]
  },
  {
   "cell_type": "markdown",
   "metadata": {},
   "source": [
    "#### 2. Are modern airports located mostly in large cities or not necessarily?"
   ]
  },
  {
   "cell_type": "code",
   "execution_count": 37,
   "metadata": {},
   "outputs": [
    {
     "name": "stdout",
     "output_type": "stream",
     "text": [
      "+-----------+--------------+--------------+----------------+\n",
      "|AirportCode|         State|          City|ConstructionYear|\n",
      "+-----------+--------------+--------------+----------------+\n",
      "|        MYR|South Carolina|  Mirtle Beach|            2013|\n",
      "|        AUS|         Texas|        Austin|            1999|\n",
      "|        MAF|         Texas|       Midland|            1999|\n",
      "|        BUF|      New York|   Cheektowaga|            1997|\n",
      "|        ALB|      New York|        Albany|            1996|\n",
      "|        DEN|      Colorado|        Denver|            1995|\n",
      "|        SAV|South Carolina|      Savannah|            1994|\n",
      "|        IAH|         Texas|       Houston|            1990|\n",
      "|        MCO|       Florida|       Orlando|            1981|\n",
      "|        RSW|       Florida|    Fort Myers|            1980|\n",
      "|        MCI|        Misuri|        Kansas|            1972|\n",
      "|        TPA|       Florida|         Tampa|            1971|\n",
      "|        HOU|         Texas|      Houston |            1969|\n",
      "|        SMF|    California|    Sacramento|            1967|\n",
      "|        HRL|         Texas|     Harlingen|            1967|\n",
      "|        SJC|    California|      San Jose|            1965|\n",
      "|        IAD|      Virginia|        Dulles|            1962|\n",
      "|        CRP|         Texas|Corpus Christi|            1960|\n",
      "|        MSY|     Louisiana|        Kenner|            1959|\n",
      "|        BFL|    California|       Oildale|            1957|\n",
      "+-----------+--------------+--------------+----------------+\n",
      "only showing top 20 rows\n",
      "\n"
     ]
    }
   ],
   "source": [
    "CompleteDF.dropDuplicates(['AirportCode', 'City',])\\\n",
    "                    .select('AirportCode', 'State', 'City', 'ConstructionYear')\\\n",
    "                    .orderBy('ConstructionYear', ascending = False).show()"
   ]
  },
  {
   "cell_type": "markdown",
   "metadata": {},
   "source": [
    "#### Conclusions to Q2:\n",
    "    \n",
    "Having ordered the airports by year of construction, we can look at the cities where they are located.\n",
    "We decided to take a subset of the 20 most modern airports to look at the cities. \n",
    "\n",
    "Looking into this list, there are clearly some important cities, such as: Austin, Denver, Albany and Houston. However, the rest of the cities are not considered as large or important, and there are even some really small cities such as: Mirtle Beach, Midland and Cheektowaga. \n",
    "\n",
    "- We can then assume that new airports have been created as a compliment to other larger airports in the state, or as a neccesity to big areas that did not have a close airport because they were not close to a large city. "
   ]
  },
  {
   "cell_type": "markdown",
   "metadata": {},
   "source": [
    "#### 3. Do airports with more terminals have larger delays, or is the opposite true?"
   ]
  },
  {
   "cell_type": "code",
   "execution_count": 38,
   "metadata": {},
   "outputs": [
    {
     "name": "stdout",
     "output_type": "stream",
     "text": [
      "Average Arrival Delays and Delay Severity for the 25 Airports with the MOST TERMINALS:\n",
      "Keep in mind that Delay severities are categorized as follows: 1-Annoying, 2-Impactful, 3-Unacceptable\n",
      "+-----------+------------+------------------+------------------+\n",
      "|AirportCode|NumTerminals|         Avg_Delay|      Avg_Severity|\n",
      "+-----------+------------+------------------+------------------+\n",
      "|        LAX|           9|48.175604626708726|1.8286014721345951|\n",
      "|        PHL|           7| 54.62300319488818| 1.961661341853035|\n",
      "|        FLL|           5|47.524096385542165|1.9518072289156627|\n",
      "|        IAH|           5|              79.0|1.8333333333333333|\n",
      "|        BWI|           4| 46.78449612403101|1.8387596899224805|\n",
      "|        CRP|           4|43.333333333333336|1.7666666666666666|\n",
      "|        SFO|           4|  85.7556270096463|2.3987138263665595|\n",
      "|        TPA|           4| 44.64536741214057|1.8083067092651757|\n",
      "|        MCI|           3| 46.03931203931204|1.8083538083538084|\n",
      "|        TUS|           3| 54.21658986175115|1.9216589861751152|\n",
      "|        EWR|           3|              43.0|1.6666666666666667|\n",
      "|        ONT|           3|50.170212765957444|1.8404255319148937|\n",
      "|        OMA|           3|        51.3046875|           1.90625|\n",
      "|        SLC|           3| 51.33827160493827|1.9012345679012346|\n",
      "|        ABQ|           3| 47.41520467836257| 1.868421052631579|\n",
      "|        PHX|           3| 48.36252189141857|1.8266199649737302|\n",
      "|        PBI|           3|47.255319148936174|1.8297872340425532|\n",
      "|        MDW|           3|54.752066115702476|1.9513314967860422|\n",
      "|        CMH|           3| 62.68141592920354|1.9646017699115044|\n",
      "|        SAN|           3|50.898656898656895|1.9157509157509158|\n",
      "|        ELP|           3| 46.78172588832487|1.8172588832487309|\n",
      "|        BHM|           2| 45.26851851851852|1.8055555555555556|\n",
      "|        BFL|           2|           86.4375|             2.125|\n",
      "|        SNA|           2| 39.83177570093458| 1.644859813084112|\n",
      "|        DTW|           2| 46.05940594059406|1.7623762376237624|\n",
      "+-----------+------------+------------------+------------------+\n",
      "only showing top 25 rows\n",
      "\n"
     ]
    }
   ],
   "source": [
    "print(\"Average Arrival Delays and Delay Severity for the 25 Airports with the MOST TERMINALS:\")\n",
    "print(\"Keep in mind that Delay severities are categorized as follows: 1-Annoying, 2-Impactful, 3-Unacceptable\")\n",
    "CompleteDF.groupBy(\"AirportCode\", \"NumTerminals\")\\\n",
    "            .agg(avg(\"ArrDelay\").alias(\"Avg_Delay\"),\\\n",
    "            avg(\"DelaySeverity\").alias(\"Avg_Severity\"))\\\n",
    "            .orderBy(\"NumTerminals\", ascending = False).show(25)"
   ]
  },
  {
   "cell_type": "code",
   "execution_count": 39,
   "metadata": {},
   "outputs": [
    {
     "name": "stdout",
     "output_type": "stream",
     "text": [
      "Average Arrival Delays and Delay Severity for the 25 Airports with the LEAST TERMINALS:\n",
      "Keep in mind that Delay severities are categorized as follows: 1-Annoying, 2-Impactful, 3-Unacceptable\n",
      "+-----------+------------+------------------+------------------+\n",
      "|AirportCode|NumTerminals|         Avg_Delay|      Avg_Severity|\n",
      "+-----------+------------+------------------+------------------+\n",
      "|        HRL|           1|50.107142857142854|1.8392857142857142|\n",
      "|        GSO|           1|              60.0|               2.0|\n",
      "|        PVD|           1| 46.20645161290322|1.9548387096774194|\n",
      "|        SAV|           1|              31.0|               2.0|\n",
      "|        DAL|           1| 43.63193277310924|1.7949579831932774|\n",
      "|        OKC|           1| 50.94358974358974|1.8461538461538463|\n",
      "|        MHT|           1| 44.61842105263158|1.8289473684210527|\n",
      "|        BNA|           1|  45.5974025974026|1.7948051948051948|\n",
      "|        BOI|           1|              48.6|           1.83125|\n",
      "|        MRY|           1|52.142857142857146|1.9642857142857142|\n",
      "|        MAF|           1|              48.2|1.8307692307692307|\n",
      "|        DEN|           1| 48.09792284866469|1.8724035608308605|\n",
      "|        CLE|           1|45.350515463917525|1.8453608247422681|\n",
      "|        MYR|           1|              18.0|               1.0|\n",
      "|        BUF|           1|            54.775|               1.9|\n",
      "|        RNO|           1|46.700325732899024|1.8925081433224755|\n",
      "|        GEG|           1| 50.57046979865772|1.8859060402684564|\n",
      "|        IAD|           1|50.014084507042256|1.8309859154929577|\n",
      "|        MSY|           1|44.119791666666664|              1.75|\n",
      "|        LIT|           1|              44.8|1.8666666666666667|\n",
      "|        AMA|           1| 42.62264150943396|1.8113207547169812|\n",
      "|        RSW|           1| 45.71739130434783|1.7826086956521738|\n",
      "|        JAX|           1| 50.46153846153846|1.7923076923076924|\n",
      "|        EUG|           1|              85.5|               2.0|\n",
      "|        ISP|           1|39.730496453900706|1.7163120567375887|\n",
      "+-----------+------------+------------------+------------------+\n",
      "only showing top 25 rows\n",
      "\n"
     ]
    }
   ],
   "source": [
    "print(\"Average Arrival Delays and Delay Severity for the 25 Airports with the LEAST TERMINALS:\")\n",
    "print(\"Keep in mind that Delay severities are categorized as follows: 1-Annoying, 2-Impactful, 3-Unacceptable\")\n",
    "CompleteDF.groupBy(\"AirportCode\", \"NumTerminals\")\\\n",
    "            .agg(avg(\"ArrDelay\").alias(\"Avg_Delay\"),\\\n",
    "            avg(\"DelaySeverity\").alias(\"Avg_Severity\"))\\\n",
    "            .orderBy(\"NumTerminals\", ascending = True).show(25)"
   ]
  },
  {
   "cell_type": "markdown",
   "metadata": {},
   "source": [
    "#### Conclusions to Q3 (terminals):\n",
    "    \n",
    "The range for number of terminals varies mostly from 1 to 3, except for some outliers (airports with 4, 5, 7 and 9 terminals) but these outliers only sum up to 8 US airports. \n",
    "\n",
    "Looking at the average delay severity, and knowing that almost all airports have only one terminal, there is not a apparent relation between the two factors. However, let's take a deeper look :\n",
    "\n",
    "- The average severity goes from 1 (annoying) to 3 (unnacceptable), and all airports have between 1.7 and 2, even when comparing the two tables from the output.\n",
    "\n",
    "The conclusion that we can extract from this is that airports build their terminals according to the usage they are going to have --> same delay regardless of the number of terminals."
   ]
  },
  {
   "cell_type": "markdown",
   "metadata": {},
   "source": [
    "#### What about the Runways?"
   ]
  },
  {
   "cell_type": "code",
   "execution_count": 40,
   "metadata": {},
   "outputs": [
    {
     "name": "stdout",
     "output_type": "stream",
     "text": [
      "Average Arrival Delays and Delay Severity for 25 airports with the MOST RUNWAYS:\n",
      "Keep in mind that Delay severities are categorized as follows: 1-Annoying, 2-Impactful, 3-Unacceptable\n",
      "+-----------+----------+------------------+------------------+\n",
      "|AirportCode|NumRunways|         Avg_Delay|      Avg_Severity|\n",
      "+-----------+----------+------------------+------------------+\n",
      "|        DTW|         6| 46.05940594059406|1.7623762376237624|\n",
      "|        DEN|         6| 48.09792284866469|1.8724035608308605|\n",
      "|        MDW|         5|54.752066115702476|1.9513314967860422|\n",
      "|        IAD|         5|50.014084507042256|1.8309859154929577|\n",
      "|        MCO|         5| 46.45985401459854|1.7980535279805352|\n",
      "|        IAH|         5|              79.0|1.8333333333333333|\n",
      "|        HOU|         4|47.167655786350146| 1.824925816023739|\n",
      "|        CLE|         4|45.350515463917525|1.8453608247422681|\n",
      "|        LAX|         4|48.175604626708726|1.8286014721345951|\n",
      "|        BWI|         4| 46.78449612403101|1.8387596899224805|\n",
      "|        OKC|         4| 50.94358974358974|1.8461538461538463|\n",
      "|        ISP|         4|39.730496453900706|1.7163120567375887|\n",
      "|        PIT|         4|51.527272727272724|               1.9|\n",
      "|        LAS|         4| 55.53939008894536|1.9428208386277002|\n",
      "|        MAF|         4|              48.2|1.8307692307692307|\n",
      "|        PHL|         4| 54.62300319488818| 1.961661341853035|\n",
      "|        STL|         4| 47.05572755417957|  1.91640866873065|\n",
      "|        SFO|         4|  85.7556270096463|2.3987138263665595|\n",
      "|        OAK|         4| 46.59293873312565|1.8442367601246106|\n",
      "|        BNA|         4|  45.5974025974026|1.7948051948051948|\n",
      "|        SLC|         4| 51.33827160493827|1.9012345679012346|\n",
      "|        TUL|         3|46.583333333333336|1.7954545454545454|\n",
      "|        COS|         3|44.885714285714286|1.9142857142857144|\n",
      "|        DAL|         3| 43.63193277310924|1.7949579831932774|\n",
      "|        BDL|         3| 59.77272727272727|1.9659090909090908|\n",
      "+-----------+----------+------------------+------------------+\n",
      "only showing top 25 rows\n",
      "\n"
     ]
    }
   ],
   "source": [
    "print(\"Average Arrival Delays and Delay Severity for 25 airports with the MOST RUNWAYS:\")\n",
    "print(\"Keep in mind that Delay severities are categorized as follows: 1-Annoying, 2-Impactful, 3-Unacceptable\")\n",
    "CompleteDF.groupBy(\"AirportCode\", \"NumRunways\")\\\n",
    "            .agg(avg(\"ArrDelay\").alias(\"Avg_Delay\"),\\\n",
    "            avg(\"DelaySeverity\").alias(\"Avg_Severity\"))\\\n",
    "            .orderBy(\"NumRunways\", ascending = False).show(25)"
   ]
  },
  {
   "cell_type": "code",
   "execution_count": 41,
   "metadata": {},
   "outputs": [
    {
     "name": "stdout",
     "output_type": "stream",
     "text": [
      "Average Arrival Delays and Delay Severity for 25 airports with the LEAST RUNWAYS:\n",
      "Keep in mind that Delay severities are categorized as follows: 1-Annoying, 2-Impactful, 3-Unacceptable\n",
      "+-----------+----------+------------------+------------------+\n",
      "|AirportCode|NumRunways|         Avg_Delay|      Avg_Severity|\n",
      "+-----------+----------+------------------+------------------+\n",
      "|        MYR|         1|              18.0|               1.0|\n",
      "|        RSW|         1| 45.71739130434783|1.7826086956521738|\n",
      "|        SAN|         1|50.898656898656895|1.9157509157509158|\n",
      "|        MRY|         2|52.142857142857146|1.9642857142857142|\n",
      "|        BUF|         2|            54.775|               1.9|\n",
      "|        CMH|         2| 62.68141592920354|1.9646017699115044|\n",
      "|        FLL|         2|47.524096385542165|1.9518072289156627|\n",
      "|        BOI|         2|              48.6|           1.83125|\n",
      "|        AUS|         2|  46.6764705882353|1.7904411764705883|\n",
      "|        BUR|         2| 46.83375959079284|1.8337595907928388|\n",
      "|        MHT|         2| 44.61842105263158|1.8289473684210527|\n",
      "|        SAV|         2|              31.0|               2.0|\n",
      "|        BFL|         2|           86.4375|             2.125|\n",
      "|        SNA|         2| 39.83177570093458| 1.644859813084112|\n",
      "|        ONT|         2|50.170212765957444|1.8404255319148937|\n",
      "|        ALB|         2|50.294117647058826|1.8235294117647058|\n",
      "|        FAT|         2| 75.19047619047619| 2.142857142857143|\n",
      "|        JAN|         2|46.851851851851855|1.6851851851851851|\n",
      "|        AMA|         2| 42.62264150943396|1.8113207547169812|\n",
      "|        SMF|         2| 46.65833333333333|1.8316666666666668|\n",
      "|        MSY|         2|44.119791666666664|              1.75|\n",
      "|        EUG|         2|              85.5|               2.0|\n",
      "|        PVD|         2| 46.20645161290322|1.9548387096774194|\n",
      "|        GEG|         2| 50.57046979865772|1.8859060402684564|\n",
      "|        BHM|         2| 45.26851851851852|1.8055555555555556|\n",
      "+-----------+----------+------------------+------------------+\n",
      "only showing top 25 rows\n",
      "\n"
     ]
    }
   ],
   "source": [
    "print(\"Average Arrival Delays and Delay Severity for 25 airports with the LEAST RUNWAYS:\")\n",
    "print(\"Keep in mind that Delay severities are categorized as follows: 1-Annoying, 2-Impactful, 3-Unacceptable\")\n",
    "CompleteDF.groupBy(\"AirportCode\", \"NumRunways\")\\\n",
    "            .agg(avg(\"ArrDelay\").alias(\"Avg_Delay\"),\\\n",
    "            avg(\"DelaySeverity\").alias(\"Avg_Severity\"))\\\n",
    "            .orderBy(\"NumRunways\", ascending = True).show(25)"
   ]
  },
  {
   "cell_type": "markdown",
   "metadata": {},
   "source": [
    "#### Conclusions to Q3 (runways):\n",
    "\n",
    "The insights gathered from this analysis is similar to the previous analysis for the terminals.\n",
    "\n",
    "- Only 6 airports out of 76 have more than 4 runways\n",
    "    - It would be interesting to consider that airports are built following a building plan executed many years back that appears to be effective. They do not vary the main characteristics from one airport to the other, just because they know it works, and also because it is the best way to divide the square meters to be the most efficient possible.\n",
    "    \n",
    "In this case however, the Average_Delay and Average_Delay_Severity seems to be slightly higher for airports with more Runways, which is the opposite of what we were expecting. Airports with more Runways usually receive a higher number of flights.\n",
    "\n",
    "So far, it seems that Delays are not apparently related to the Airport's Morphology, but rather to the volume of flights that they receive or to the size of the airport. Let's take a deeper look and analyze the delays compared to the average runway length.  "
   ]
  },
  {
   "cell_type": "markdown",
   "metadata": {},
   "source": [
    "#### 4. Discretizing the arrival delay to relate it to the average length of runways / average number of arriving flights. Is there a relation? Support your conclusions with data"
   ]
  },
  {
   "cell_type": "markdown",
   "metadata": {},
   "source": [
    "We will create three different dataframes that depend on the delay severity, so that we can hopefully see different characteristics for each group and understand the potential reasons for delays.:\n",
    "\n",
    "- Annoying:     (15 - 30 min Delay)\n",
    "- Impactful:    (30 - 60 min Delay)\n",
    "- Unacceptable: ( > 60 min Delay)"
   ]
  },
  {
   "cell_type": "code",
   "execution_count": 42,
   "metadata": {},
   "outputs": [],
   "source": [
    "annoying_delays = CompleteDF\\\n",
    "                    .where(CompleteDF[\"DelaySeverity\"] == 1)\n",
    "\n",
    "impactful_delays = CompleteDF\\\n",
    "                    .where(CompleteDF[\"DelaySeverity\"] == 2)\n",
    "\n",
    "unacceptable_delays = CompleteDF\\\n",
    "                    .where(CompleteDF[\"DelaySeverity\"] == 3)"
   ]
  },
  {
   "cell_type": "markdown",
   "metadata": {},
   "source": [
    "For each severity delay dataframe we will:\n",
    "\n",
    "1. Create a new column with the number of annoying/ impacful/ unacceptable delays per airport.\n",
    "2. Calculate a ratio:\n",
    "\n",
    "    - Average lenght of runway / the number of annoying flights\n",
    "\n",
    "This ratio will give us the Meters of Runway that are dedicated to each Flight per Airport. \n",
    "\n",
    "What we want to do with this calculation, is to check if the less runway meters given to each flight, the higher the delays."
   ]
  },
  {
   "cell_type": "markdown",
   "metadata": {},
   "source": [
    "It is important to mention that there are airports that only received 1 flight, and their ratio is the actual runway length. That is why we will analyze the description of the runway ratio for each group and look for insights. "
   ]
  },
  {
   "cell_type": "markdown",
   "metadata": {},
   "source": [
    "#### Annoying flights:"
   ]
  },
  {
   "cell_type": "code",
   "execution_count": 43,
   "metadata": {},
   "outputs": [],
   "source": [
    "annoying_flights = annoying_delays\\\n",
    "                    .groupBy(\"AirportCode\").agg(f.count(\"AirportCode\").alias(\"NumAnnoyFlights\"))\\\n",
    "                    .orderBy(\"NumAnnoyFlights\", ascending=False)"
   ]
  },
  {
   "cell_type": "code",
   "execution_count": 44,
   "metadata": {},
   "outputs": [],
   "source": [
    "annoyingDF = annoying_flights.join(annoying_delays, [\"AirportCode\"])\n",
    "annoyingDF = annoyingDF.drop(\"NumFlights\")"
   ]
  },
  {
   "cell_type": "code",
   "execution_count": 45,
   "metadata": {},
   "outputs": [],
   "source": [
    "annoying_ratio = annoyingDF.withColumn(\"FlightRunway_Ratio\", col(\"AvgRunwayLength\") / col(\"NumAnnoyFlights\"))"
   ]
  },
  {
   "cell_type": "code",
   "execution_count": 46,
   "metadata": {},
   "outputs": [
    {
     "name": "stdout",
     "output_type": "stream",
     "text": [
      "FlightRunway_Ratio column tells us the Runway Length dedicated to each Flight for a given airport, for all the Delays considered as Annoying (15 - 30) min Delay:\n",
      "+-----------+------------------+---------------+---------------+\n",
      "|AirportCode|FlightRunway_Ratio|AvgRunwayLength|NumAnnoyFlights|\n",
      "+-----------+------------------+---------------+---------------+\n",
      "|        MYR|            2897.0|           2897|              1|\n",
      "|        EWR|            2750.0|           2750|              1|\n",
      "|        ROC|            1835.0|           1835|              1|\n",
      "|        EUG|            1050.0|           2100|              2|\n",
      "|        IAH|            1000.0|           3000|              3|\n",
      "|        BFL|             700.0|           2800|              4|\n",
      "|        LGB|             525.0|           2100|              4|\n",
      "|        FAT|             382.0|           2674|              7|\n",
      "|        JAN| 326.9230769230769|           8500|             26|\n",
      "|        MRY|             250.0|           2000|              8|\n",
      "|        COS|237.92857142857142|           3331|             14|\n",
      "|        RSW|             180.0|           3600|             20|\n",
      "|        AMA|148.22727272727272|           3261|             22|\n",
      "|        CRP|142.85714285714286|           2000|             14|\n",
      "|        PIT|117.85714285714286|           4950|             42|\n",
      "|        PBI|             102.3|           2046|             20|\n",
      "|        IAD| 98.63636363636364|           3255|             33|\n",
      "|        HRL| 97.82608695652173|           2250|             23|\n",
      "|        ORF| 91.95652173913044|           2115|             23|\n",
      "|        IND|            90.625|           2900|             32|\n",
      "+-----------+------------------+---------------+---------------+\n",
      "only showing top 20 rows\n",
      "\n"
     ]
    }
   ],
   "source": [
    "print(\"FlightRunway_Ratio column tells us the Runway Length dedicated to each Flight for a given airport, for all the Delays considered as Annoying (15 - 30) min Delay:\")\n",
    "annoying_ratio.dropDuplicates(['AirportCode'])\\\n",
    "                    .select('AirportCode', 'FlightRunway_Ratio', 'AvgRunwayLength', 'NumAnnoyFlights')\\\n",
    "                    .orderBy('FlightRunway_Ratio', ascending = False).show()"
   ]
  },
  {
   "cell_type": "code",
   "execution_count": 47,
   "metadata": {},
   "outputs": [
    {
     "name": "stdout",
     "output_type": "stream",
     "text": [
      "+-------+------------------+\n",
      "|summary|FlightRunway_Ratio|\n",
      "+-------+------------------+\n",
      "|  count|              8101|\n",
      "|   mean|24.270954203184793|\n",
      "| stddev|  66.2308492865673|\n",
      "|    min|4.3316831683168315|\n",
      "|    max|            2897.0|\n",
      "+-------+------------------+\n",
      "\n"
     ]
    }
   ],
   "source": [
    "annoying_ratio.select(\"FlightRunway_Ratio\").describe().show()"
   ]
  },
  {
   "cell_type": "markdown",
   "metadata": {},
   "source": [
    "#### Impactful delays"
   ]
  },
  {
   "cell_type": "code",
   "execution_count": 48,
   "metadata": {},
   "outputs": [],
   "source": [
    "impactful_flights = impactful_delays\\\n",
    "                    .groupBy(\"AirportCode\").agg(f.count(\"AirportCode\").alias(\"NumImpactFlights\"))\\\n",
    "                    .orderBy(\"NumImpactFlights\", ascending=False)"
   ]
  },
  {
   "cell_type": "code",
   "execution_count": 49,
   "metadata": {},
   "outputs": [],
   "source": [
    "impactfulDF = impactful_flights.join(impactful_delays, [\"AirportCode\"])\n",
    "impactfulDF = impactfulDF.drop(\"NumFlights\")"
   ]
  },
  {
   "cell_type": "code",
   "execution_count": 50,
   "metadata": {},
   "outputs": [],
   "source": [
    "impactful_ratio = impactfulDF.withColumn(\"FlightRunway_Ratio\", col(\"AvgRunwayLength\") / col(\"NumImpactFlights\"))"
   ]
  },
  {
   "cell_type": "code",
   "execution_count": 51,
   "metadata": {},
   "outputs": [
    {
     "name": "stdout",
     "output_type": "stream",
     "text": [
      "FlightRunway_Ratio column tells us the Runway Length dedicated to each Flight for a given airport, for all the Delays considered as Impactful (30 - 60) min Delay:\n",
      "+-----------+------------------+---------------+----------------+\n",
      "|AirportCode|FlightRunway_Ratio|AvgRunwayLength|NumImpactFlights|\n",
      "+-----------+------------------+---------------+----------------+\n",
      "|        IAH|            3000.0|           3000|               1|\n",
      "|        GSO|            2600.0|           2600|               1|\n",
      "|        SAV|            2550.0|           2550|               1|\n",
      "|        EWR|            1375.0|           2750|               2|\n",
      "|        FAT|             668.5|           2674|               4|\n",
      "|        LGB|             525.0|           2100|               4|\n",
      "|        BFL| 466.6666666666667|           2800|               6|\n",
      "|        JAN|447.36842105263156|           8500|              19|\n",
      "|        COS|             333.1|           3331|              10|\n",
      "|        RSW|             225.0|           3600|              16|\n",
      "|        CRP|222.22222222222223|           2000|               9|\n",
      "|        IAD|191.47058823529412|           3255|              17|\n",
      "|        AMA| 171.6315789473684|           3261|              19|\n",
      "|        MRY|153.84615384615384|           2000|              13|\n",
      "|        ORF|             141.0|           2115|              15|\n",
      "|        PBI|             136.4|           2046|              15|\n",
      "|        PIT|133.78378378378378|           4950|              37|\n",
      "|        ALB|132.94444444444446|           2393|              18|\n",
      "|        LBB|119.73684210526316|           2275|              19|\n",
      "|        HRL|118.42105263157895|           2250|              19|\n",
      "+-----------+------------------+---------------+----------------+\n",
      "only showing top 20 rows\n",
      "\n"
     ]
    }
   ],
   "source": [
    "print(\"FlightRunway_Ratio column tells us the Runway Length dedicated to each Flight for a given airport, for all the Delays considered as Impactful (30 - 60) min Delay:\")\n",
    "impactful_ratio.dropDuplicates(['AirportCode'])\\\n",
    "                    .select('AirportCode', 'FlightRunway_Ratio', 'AvgRunwayLength', 'NumImpactFlights')\\\n",
    "                    .orderBy('FlightRunway_Ratio', ascending = False).show()"
   ]
  },
  {
   "cell_type": "code",
   "execution_count": 52,
   "metadata": {},
   "outputs": [
    {
     "name": "stdout",
     "output_type": "stream",
     "text": [
      "+-------+------------------+\n",
      "|summary|FlightRunway_Ratio|\n",
      "+-------+------------------+\n",
      "|  count|              6050|\n",
      "|   mean| 32.22099173553719|\n",
      "| stddev| 80.52843184060251|\n",
      "|    min|5.2395209580838324|\n",
      "|    max|            3000.0|\n",
      "+-------+------------------+\n",
      "\n"
     ]
    }
   ],
   "source": [
    "impactful_ratio.select(\"FlightRunway_Ratio\").describe().show()"
   ]
  },
  {
   "cell_type": "markdown",
   "metadata": {},
   "source": [
    "#### Unacceptable delays"
   ]
  },
  {
   "cell_type": "code",
   "execution_count": 53,
   "metadata": {},
   "outputs": [],
   "source": [
    "unacceptable_flights = unacceptable_delays\\\n",
    "                    .groupBy(\"AirportCode\").agg(f.count(\"AirportCode\").alias(\"NumUnaccFlights\"))\\\n",
    "                    .orderBy(\"NumUnaccFlights\", ascending=False)"
   ]
  },
  {
   "cell_type": "code",
   "execution_count": 54,
   "metadata": {},
   "outputs": [],
   "source": [
    "unacceptableDF = unacceptable_flights.join(unacceptable_delays, [\"AirportCode\"])\n",
    "unacceptableDF = unacceptableDF.drop(\"NumFlights\")"
   ]
  },
  {
   "cell_type": "code",
   "execution_count": 55,
   "metadata": {},
   "outputs": [],
   "source": [
    "unacceptable_ratio = unacceptableDF.withColumn(\"FlightRunway_Ratio\", col(\"AvgRunwayLength\") / col(\"NumUnaccFlights\"))"
   ]
  },
  {
   "cell_type": "code",
   "execution_count": 56,
   "metadata": {},
   "outputs": [
    {
     "name": "stdout",
     "output_type": "stream",
     "text": [
      "FlightRunway_Ratio column tells us the Runway Length dedicated to each Flight for a given airport, for all the Delays considered as Unacceptable (> 60) min Delay:\n",
      "+-----------+------------------+---------------+---------------+\n",
      "|AirportCode|FlightRunway_Ratio|AvgRunwayLength|NumUnaccFlights|\n",
      "+-----------+------------------+---------------+---------------+\n",
      "|        IAH|            1500.0|           3000|              2|\n",
      "|        EUG|            1050.0|           2100|              2|\n",
      "|        JAN| 944.4444444444445|           8500|              9|\n",
      "|        BFL| 466.6666666666667|           2800|              6|\n",
      "|        RSW|             360.0|           3600|             10|\n",
      "|        COS| 302.8181818181818|           3331|             11|\n",
      "|        MRY| 285.7142857142857|           2000|              7|\n",
      "|        CRP| 285.7142857142857|           2000|              7|\n",
      "|        AMA|            271.75|           3261|             12|\n",
      "|        FAT|             267.4|           2674|             10|\n",
      "|        LGB|             210.0|           2100|             10|\n",
      "|        LBB|189.58333333333334|           2275|             12|\n",
      "|        PBI|             170.5|           2046|             12|\n",
      "|        HRL|160.71428571428572|           2250|             14|\n",
      "|        PIT|159.67741935483872|           4950|             31|\n",
      "|        MAF|156.76923076923077|           2038|             13|\n",
      "|        IAD|             155.0|           3255|             21|\n",
      "|        ORF|             141.0|           2115|             15|\n",
      "|        DTW|139.57142857142858|           2931|             21|\n",
      "|        ALB|125.94736842105263|           2393|             19|\n",
      "+-----------+------------------+---------------+---------------+\n",
      "only showing top 20 rows\n",
      "\n"
     ]
    }
   ],
   "source": [
    "print(\"FlightRunway_Ratio column tells us the Runway Length dedicated to each Flight for a given airport, for all the Delays considered as Unacceptable (> 60) min Delay:\")\n",
    "unacceptable_ratio.dropDuplicates(['AirportCode'])\\\n",
    "                    .select('AirportCode', 'FlightRunway_Ratio', 'AvgRunwayLength', 'NumUnaccFlights')\\\n",
    "                    .orderBy('FlightRunway_Ratio', ascending = False).show()"
   ]
  },
  {
   "cell_type": "code",
   "execution_count": 57,
   "metadata": {},
   "outputs": [
    {
     "name": "stdout",
     "output_type": "stream",
     "text": [
      "+-------+------------------+\n",
      "|summary|FlightRunway_Ratio|\n",
      "+-------+------------------+\n",
      "|  count|              5478|\n",
      "|   mean| 34.52665206279664|\n",
      "| stddev|  66.7038696669687|\n",
      "|    min| 4.985754985754986|\n",
      "|    max|            1500.0|\n",
      "+-------+------------------+\n",
      "\n"
     ]
    }
   ],
   "source": [
    "unacceptable_ratio.select(\"FlightRunway_Ratio\").describe().show()"
   ]
  },
  {
   "cell_type": "markdown",
   "metadata": {},
   "source": [
    "#### Conclusions to Q4:\n",
    "    \n",
    "Surprinsingly, our expectations were not met:\n",
    "\n",
    "- The higher the severity of the delay, the higher the mean of the runway ratio. This means that the longer the delay of the flights (in average) the more meters of runway that the airport had available for each flight, which is the opposite as what we were expecting initially.\n",
    "\n",
    "The means of each ratio are :\n",
    "  - 24.27 for annoying delay flights\n",
    "  - 32.22 for impactful delay flights\n",
    "  - 34.53 for unacceptable delay flights\n",
    "\n",
    "At this point, it is clear that number and length of the runways seem to have an inverse relation with Delays and their severity. As we stated before, it is reasonable to assume that large airports with more runways receive a higher number of flights. Let's take a look at the relation between number of flights and delays."
   ]
  },
  {
   "cell_type": "markdown",
   "metadata": {},
   "source": [
    "#### 5. Does the Number of Arriving Flights for each Airport impacts the Delays?"
   ]
  },
  {
   "cell_type": "markdown",
   "metadata": {},
   "source": [
    "To answer this question we want to do a very direct approach that is easy to analyze and understand. We will divide the DataFrame in two, based on the mean for NumFlights:\n",
    "- Airports that received the highest number of flights (> 2946).\n",
    "- Airports that received the lowest number of flights (<= 2946).\n",
    "\n",
    "Then we will calculate the Mean and Count for Arrival Delays and Delay's Severity. We would expect to see significantly higher Delays on airports that have the highest Number of Flights. Let's confirm:"
   ]
  },
  {
   "cell_type": "code",
   "execution_count": 58,
   "metadata": {},
   "outputs": [
    {
     "name": "stdout",
     "output_type": "stream",
     "text": [
      "+-------+------------------+\n",
      "|summary|        NumFlights|\n",
      "+-------+------------------+\n",
      "|  count|             19629|\n",
      "|   mean|2946.7493504508634|\n",
      "| stddev| 1974.047350692438|\n",
      "|    min|                 1|\n",
      "|    max|              6734|\n",
      "+-------+------------------+\n",
      "\n"
     ]
    }
   ],
   "source": [
    "CompleteDF.select(\"NumFlights\").describe().show()"
   ]
  },
  {
   "cell_type": "code",
   "execution_count": 59,
   "metadata": {},
   "outputs": [],
   "source": [
    "MostFlights = CompleteDF.where(f.col(\"NumFlights\") > 2946)"
   ]
  },
  {
   "cell_type": "code",
   "execution_count": 60,
   "metadata": {},
   "outputs": [
    {
     "name": "stdout",
     "output_type": "stream",
     "text": [
      "+-----------+----------+------------------+------------------+\n",
      "|AirportCode|NumFlights|             Delay|    Delay_Severity|\n",
      "+-----------+----------+------------------+------------------+\n",
      "|        LAS|      6734| 55.53939008894536|1.9428208386277002|\n",
      "|        MDW|      6255|54.752066115702476|1.9513314967860422|\n",
      "|        PHX|      5513| 48.36252189141857|1.8266199649737302|\n",
      "|        BWI|      4691| 46.78449612403101|1.8387596899224805|\n",
      "|        OAK|      3916| 46.59293873312565|1.8442367601246106|\n",
      "+-----------+----------+------------------+------------------+\n",
      "only showing top 5 rows\n",
      "\n"
     ]
    }
   ],
   "source": [
    "MostFlights.groupBy(\"AirportCode\", \"NumFlights\")\\\n",
    "            .agg(avg(\"ArrDelay\").alias(\"Delay\"),\\\n",
    "            avg(\"DelaySeverity\").alias(\"Delay_Severity\"))\\\n",
    "            .orderBy(\"NumFlights\", ascending = False).show(5)"
   ]
  },
  {
   "cell_type": "markdown",
   "metadata": {},
   "source": [
    "Getting Mean and Count for Delays and Delay's Severity, for the Airports that received the most flights:"
   ]
  },
  {
   "cell_type": "code",
   "execution_count": 61,
   "metadata": {},
   "outputs": [
    {
     "name": "stdout",
     "output_type": "stream",
     "text": [
      "+-------+------------------+------------------+\n",
      "|summary|          ArrDelay|     DelaySeverity|\n",
      "+-------+------------------+------------------+\n",
      "|  count|              8863|              8863|\n",
      "|   mean|49.832675166422206|1.8702470946632066|\n",
      "| stddev|46.189813330223664|0.8243901173263337|\n",
      "|    min|                15|                 1|\n",
      "|    max|               500|                 3|\n",
      "+-------+------------------+------------------+\n",
      "\n"
     ]
    }
   ],
   "source": [
    "MostFlights.select(\"ArrDelay\", \"DelaySeverity\").describe().show()"
   ]
  },
  {
   "cell_type": "code",
   "execution_count": 62,
   "metadata": {},
   "outputs": [],
   "source": [
    "LeastFlights = CompleteDF.where(f.col(\"NumFlights\") <= 2946)"
   ]
  },
  {
   "cell_type": "code",
   "execution_count": 63,
   "metadata": {},
   "outputs": [
    {
     "name": "stdout",
     "output_type": "stream",
     "text": [
      "+-----------+----------+-----+------------------+\n",
      "|AirportCode|NumFlights|Delay|    Delay_Severity|\n",
      "+-----------+----------+-----+------------------+\n",
      "|        MYR|         1| 18.0|               1.0|\n",
      "|        SAV|         1| 31.0|               2.0|\n",
      "|        ROC|         1| 24.0|               1.0|\n",
      "|        GSO|         2| 60.0|               2.0|\n",
      "|        EWR|         9| 43.0|1.6666666666666667|\n",
      "+-----------+----------+-----+------------------+\n",
      "only showing top 5 rows\n",
      "\n"
     ]
    }
   ],
   "source": [
    "LeastFlights.groupBy(\"AirportCode\", \"NumFlights\")\\\n",
    "            .agg(avg(\"ArrDelay\").alias(\"Delay\"),\\\n",
    "            avg(\"DelaySeverity\").alias(\"Delay_Severity\"))\\\n",
    "            .orderBy(\"NumFlights\", ascending = True).show(5)"
   ]
  },
  {
   "cell_type": "markdown",
   "metadata": {},
   "source": [
    "Getting Mean and Count for Delays and Delay's Severity, for the Airports that received the least flights:"
   ]
  },
  {
   "cell_type": "code",
   "execution_count": 64,
   "metadata": {},
   "outputs": [
    {
     "name": "stdout",
     "output_type": "stream",
     "text": [
      "+-------+-----------------+------------------+\n",
      "|summary|         ArrDelay|     DelaySeverity|\n",
      "+-------+-----------------+------------------+\n",
      "|  count|            10766|             10766|\n",
      "|   mean|49.07523685677132|1.8631803826862345|\n",
      "| stddev|45.04494226652239|0.8181331316226551|\n",
      "|    min|               15|                 1|\n",
      "|    max|              486|                 3|\n",
      "+-------+-----------------+------------------+\n",
      "\n"
     ]
    }
   ],
   "source": [
    "LeastFlights.select(\"ArrDelay\", \"DelaySeverity\").describe().show()"
   ]
  },
  {
   "cell_type": "markdown",
   "metadata": {},
   "source": [
    "#### Conclusions to Q5:\n",
    "    \n",
    "As a summary, these are the obtained results for this last business inquiry:\n",
    "\n",
    "- Airports with MOST Flights:\n",
    "    - Mean Delay: 49.83\n",
    "    - Mean Delay Severity: 1.87\n",
    "    - Count: 8,863\n",
    "\n",
    "\n",
    "- Airports with LEAST Flights:\n",
    "    - Mean Delay: 49.07\n",
    "    - Mean Delay Severity: 1.86\n",
    "    - Count: 10,766\n",
    "\n",
    "We can see that the airports with a higher volume of flights have a slightly higher average of delays and delay severity, however; it is practically impercetible and not at all significant from a business perspective.\n",
    "On the other hand, the number of delayed flights differs significantly on airports with a high volume of flights vs airports with a low volume. Opposite to what we expected, airports with the lowest volume have 21.5% more delayed flights than the airports with the highest volume.\n",
    "\n",
    "*As a next stage to this project, we would have to generate insights on how are the type of delays related to the volume of flights, size and morphology of both departure, and arrival airports."
   ]
  },
  {
   "cell_type": "markdown",
   "metadata": {},
   "source": [
    "#### Does the morphology of the airport has an effect on the delays?\n",
    "\n",
    "From the analysis that we have performed in this project, we can conclude that the morphology of the arrival airports does not have a direct, nor significant impact on the flight delays, or at least an impact that is interesting from a business point of view."
   ]
  },
  {
   "cell_type": "code",
   "execution_count": null,
   "metadata": {},
   "outputs": [],
   "source": []
  }
 ],
 "metadata": {
  "kernelspec": {
   "display_name": "Python 3",
   "language": "python",
   "name": "python3"
  },
  "language_info": {
   "codemirror_mode": {
    "name": "ipython",
    "version": 3
   },
   "file_extension": ".py",
   "mimetype": "text/x-python",
   "name": "python",
   "nbconvert_exporter": "python",
   "pygments_lexer": "ipython3",
   "version": "3.7.4"
  }
 },
 "nbformat": 4,
 "nbformat_minor": 2
}
