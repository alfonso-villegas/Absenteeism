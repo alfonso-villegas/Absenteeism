{
 "cells": [
  {
   "cell_type": "code",
   "execution_count": 1,
   "metadata": {},
   "outputs": [],
   "source": [
    "import findspark\n",
    "findspark.init()"
   ]
  },
  {
   "cell_type": "code",
   "execution_count": 2,
   "metadata": {},
   "outputs": [],
   "source": [
    "from pyspark import SparkContext\n",
    "from pyspark.sql import SparkSession\n",
    "\n",
    "sc = SparkContext.getOrCreate()\n",
    "spark = SparkSession(sc)"
   ]
  },
  {
   "cell_type": "markdown",
   "metadata": {},
   "source": [
    "## World Bank's Poverty Reduction 10-year Program"
   ]
  },
  {
   "cell_type": "markdown",
   "metadata": {},
   "source": [
    "As stated on the report, the main objective of this analysis is to generate insights that will help the World Bank's Financial Management and Loan Comitee areas to design a 10 year strategy for poverty reduction in the African continent. The analysis and content of this file can be briefly summarized in the following three areas which have been explained in detail in the written report that complements this analysis:\n",
    "\n",
    "- Data Understanding and preparation, relevant feature selection and data cleaning.\n",
    "- Overall business understanding. How much has the World Bank awarded on the last years? To which regions?\n",
    "- Contracts awarded specifically to the African continent in the last years. Which cities and sectors have benefited?\n",
    "\n",
    "\n",
    "The CSV file that has been used includes data on contracts for Investment Projects that were reviewed and awarded by the World Bank as of September 2017. This dataset does not list all contracts awarded by the Bank, but should be viewed  as a guide to determine and analyze the distribution of Major contract commitments among the Bank's member countries. \n",
    "Click <a href=\"https://www.kaggle.com/theworldbank/world-banks-major-contracts\">here</a> to go to the website where you can download the original version of the file.\n",
    "\n",
    "The dataset is composed of the following variables (note that some of them are for banks internal use and provide no value for our analysis):\n",
    "\n",
    "1. **As of Date:** 6-Sep-17, date when the file was generated.\n",
    "2. **Fiscal Year:** fiscal year when the actual loan has been implemented.\n",
    "3. **Region:** geographical area from the country for which the contract was awarded.\n",
    "4. **Borrower Country:** country for which the contract was awarded.\n",
    "5. **Borrower Country Code:** country code for which the contract was awarded.\n",
    "6. **Project ID:** project's internal registry number.\n",
    "7. **Project Name:** investment project registered name.\n",
    "8. **Procurement Type:** specific area for which the loan will be utilized.\n",
    "9. **Procurement Category:** broader category in which the loan will be utilized.\n",
    "10. **Procurement Method:** type of bidding and selection.\n",
    "11. **Product Line:** internal are in which the contract has been granted.\n",
    "12. **Major Sector:** economic sector to be supported by the contract implementation.\n",
    "13. **WB Contract Number:** contract's internal registry number.\n",
    "14. **Contract Description:** short description of each contract.\n",
    "15. **Contract Signing Date:** date when the contract has been formally agreed.\n",
    "16. **Supplier:** primary supplier working on the project.\n",
    "17. **Supplier Country:** country of supplier registration.\n",
    "18. **Supplier Country Code:** country code of supplier registration.\n",
    "19. **Total Contract Amount (USD):** total worth of the contract in USD.\n",
    "20. **Borrower Contract Reference Number:** borrower country contract number.\n",
    "\n"
   ]
  },
  {
   "cell_type": "markdown",
   "metadata": {},
   "source": [
    "#### Reading the CSV file, which contains a header, setting the Infer Schema option as True:"
   ]
  },
  {
   "cell_type": "code",
   "execution_count": 3,
   "metadata": {},
   "outputs": [],
   "source": [
    "WBContracts = spark.read\\\n",
    "                 .option(\"header\", \"true\")\\\n",
    "                 .option(\"inferSchema\", \"true\")\\\n",
    "                 .csv(\"WBContracts.csv\")"
   ]
  },
  {
   "cell_type": "markdown",
   "metadata": {},
   "source": [
    "### 1. Data Understanding:\n",
    "First actions are aimed to gather overall context and information on the data:"
   ]
  },
  {
   "cell_type": "code",
   "execution_count": 4,
   "metadata": {},
   "outputs": [
    {
     "name": "stdout",
     "output_type": "stream",
     "text": [
      "root\n",
      " |-- As of Date: string (nullable = true)\n",
      " |-- Fiscal Year: string (nullable = true)\n",
      " |-- Region: string (nullable = true)\n",
      " |-- Borrower Country: string (nullable = true)\n",
      " |-- Borrower Country Code: string (nullable = true)\n",
      " |-- Project ID: string (nullable = true)\n",
      " |-- Project Name: string (nullable = true)\n",
      " |-- Procurement Type: string (nullable = true)\n",
      " |-- Procurement Category: string (nullable = true)\n",
      " |-- Procurement Method: string (nullable = true)\n",
      " |-- Product line: string (nullable = true)\n",
      " |-- Major Sector: string (nullable = true)\n",
      " |-- WB Contract Number: integer (nullable = true)\n",
      " |-- Contract Description: string (nullable = true)\n",
      " |-- Contract Signing Date: string (nullable = true)\n",
      " |-- Supplier: string (nullable = true)\n",
      " |-- Supplier Country: string (nullable = true)\n",
      " |-- Supplier Country Code: string (nullable = true)\n",
      " |-- Total Contract Amount (USD): string (nullable = true)\n",
      " |-- Borrower Contract Reference Number: string (nullable = true)\n",
      "\n"
     ]
    }
   ],
   "source": [
    "WBContracts.printSchema()"
   ]
  },
  {
   "cell_type": "markdown",
   "metadata": {},
   "source": [
    "#### We can see that the columns Fiscal Year and Total Contract Amount have been imported as String, and at some point we will need to change them to Integers since we will need to perform operations with them."
   ]
  },
  {
   "cell_type": "code",
   "execution_count": 5,
   "metadata": {},
   "outputs": [
    {
     "name": "stdout",
     "output_type": "stream",
     "text": [
      "The World Bank Contracts dataset has 20 columns\n",
      "The World Bank Contracts dataset has 154811 rows\n"
     ]
    }
   ],
   "source": [
    "cols = len(WBContracts.columns)\n",
    "print(\"The World Bank Contracts dataset has\", cols, \"columns\")\n",
    "rows = WBContracts.count()\n",
    "print(\"The World Bank Contracts dataset has\", rows, \"rows\")"
   ]
  },
  {
   "cell_type": "markdown",
   "metadata": {},
   "source": [
    "Renaming some of the Features to a shorter and more user friendly Column Name, so that we can call them easily for further operations:"
   ]
  },
  {
   "cell_type": "code",
   "execution_count": 6,
   "metadata": {},
   "outputs": [],
   "source": [
    "WBContracts2 = WBContracts.withColumnRenamed(\"Fiscal Year\",\"Year\")\\\n",
    "           .withColumnRenamed(\"Borrower Country\",\"Country\")\\\n",
    "           .withColumnRenamed(\"Procurement Category\",\"Category\")\\\n",
    "           .withColumnRenamed(\"Major Sector\",\"Sector\")\\\n",
    "           .withColumnRenamed(\"Total Contract Amount (USD)\",\"Total_Amount\")"
   ]
  },
  {
   "cell_type": "code",
   "execution_count": 7,
   "metadata": {},
   "outputs": [
    {
     "name": "stdout",
     "output_type": "stream",
     "text": [
      "+--------------------+----+------+-------+---------------------+----------+--------------------+-------------------+-------------------+--------------------+------------+--------------------+------------------+--------------------+---------------------+------------+----------------+---------------------+------------+----------------------------------+\n",
      "|          As of Date|Year|Region|Country|Borrower Country Code|Project ID|        Project Name|   Procurement Type|           Category|  Procurement Method|Product line|              Sector|WB Contract Number|Contract Description|Contract Signing Date|    Supplier|Supplier Country|Supplier Country Code|Total_Amount|Borrower Contract Reference Number|\n",
      "+--------------------+----+------+-------+---------------------+----------+--------------------+-------------------+-------------------+--------------------+------------+--------------------+------------------+--------------------+---------------------+------------+----------------+---------------------+------------+----------------------------------+\n",
      "|09/06/2017 12:00:...|2004|AFRICA|   Mali|                   ML|   P041723|Rural Infrastr (F...|Feasibility Studies|CONSULTANT SERVICES|Single Source Sel...|    IBRD/IDA|Agriculture, Fish...|           1236192|CONV. DE MAITRISE...| 07/15/2003 12:00:...|AGETIER-MALI|            Mali|                   ML|  $176578.47|              CONVENTION 41/200...|\n",
      "|09/06/2017 12:00:...|2004|AFRICA|   Mali|                   ML|   P041723|Rural Infrastr (F...|Feasibility Studies|CONSULTANT SERVICES|Single Source Sel...|    IBRD/IDA|Public Administra...|           1236192|CONV. DE MAITRISE...| 07/15/2003 12:00:...|AGETIER-MALI|            Mali|                   ML|   $38386.63|              CONVENTION 41/200...|\n",
      "|09/06/2017 12:00:...|2004|AFRICA|   Mali|                   ML|   P041723|Rural Infrastr (F...|Feasibility Studies|CONSULTANT SERVICES|Single Source Sel...|    IBRD/IDA|      Transportation|           1236192|CONV. DE MAITRISE...| 07/15/2003 12:00:...|AGETIER-MALI|            Mali|                   ML|   $76773.25|              CONVENTION 41/200...|\n",
      "+--------------------+----+------+-------+---------------------+----------+--------------------+-------------------+-------------------+--------------------+------------+--------------------+------------------+--------------------+---------------------+------------+----------------+---------------------+------------+----------------------------------+\n",
      "only showing top 3 rows\n",
      "\n"
     ]
    }
   ],
   "source": [
    "WBContracts2.show(3)"
   ]
  },
  {
   "cell_type": "markdown",
   "metadata": {},
   "source": [
    "We can see that the column Total_Amount contains a special character \"$\" at the beginning of each value. We need to remove it in order to be able to perform operations with it. Additionally, we will modify the data type of the previously mentioned columns to Integer:"
   ]
  },
  {
   "cell_type": "code",
   "execution_count": 8,
   "metadata": {},
   "outputs": [],
   "source": [
    "import pyspark.sql.functions as f\n",
    "df = WBContracts2.withColumn(\"Total_Amount\", f.regexp_replace(f.col(\"Total_Amount\"), \"\\$\", \"\"))"
   ]
  },
  {
   "cell_type": "code",
   "execution_count": 9,
   "metadata": {},
   "outputs": [],
   "source": [
    "from pyspark.sql.types import IntegerType\n",
    "\n",
    "WBContracts3 = df.withColumn(\"YearTemp\", df.Year.cast(IntegerType()))\\\n",
    "    .withColumn(\"TATemp\", df.Total_Amount.cast(IntegerType()))\\\n",
    "    .drop(\"Year\")\\\n",
    "    .drop(\"Total_Amount\")\\\n",
    "    .withColumnRenamed(\"YearTemp\", \"Year\")\\\n",
    "    .withColumnRenamed(\"TATemp\", \"TotalAmount\")"
   ]
  },
  {
   "cell_type": "markdown",
   "metadata": {},
   "source": [
    "#### WBAnalyze is for now, the final version of the DataFrame that we will be using and storing in cache memory to perform faster queries and operations:"
   ]
  },
  {
   "cell_type": "code",
   "execution_count": 10,
   "metadata": {},
   "outputs": [
    {
     "data": {
      "text/plain": [
       "DataFrame[Year: int, Region: string, Country: string, Category: string, Sector: string, Supplier Country Code: string, TotalAmount: int]"
      ]
     },
     "execution_count": 10,
     "metadata": {},
     "output_type": "execute_result"
    }
   ],
   "source": [
    "WBAnalyze = WBContracts3.select(\"Year\", \"Region\", \"Country\", \"Category\", \"Sector\", \"Supplier Country Code\", \"TotalAmount\")\n",
    "\n",
    "WBAnalyze.cache()"
   ]
  },
  {
   "cell_type": "code",
   "execution_count": 11,
   "metadata": {
    "scrolled": true
   },
   "outputs": [
    {
     "name": "stdout",
     "output_type": "stream",
     "text": [
      "root\n",
      " |-- Year: integer (nullable = true)\n",
      " |-- Region: string (nullable = true)\n",
      " |-- Country: string (nullable = true)\n",
      " |-- Category: string (nullable = true)\n",
      " |-- Sector: string (nullable = true)\n",
      " |-- Supplier Country Code: string (nullable = true)\n",
      " |-- TotalAmount: integer (nullable = true)\n",
      "\n"
     ]
    }
   ],
   "source": [
    "WBAnalyze.printSchema()"
   ]
  },
  {
   "cell_type": "markdown",
   "metadata": {},
   "source": [
    "### 2. Initial Analysis: \n",
    "We will start by gathering some basic information from our Dataset to gain a deeper understanding of it:"
   ]
  },
  {
   "cell_type": "markdown",
   "metadata": {},
   "source": [
    "1. What is the total number of loans that have been awarded by the World Bank between 2004 and 2008?\n",
    "2. What is the Average amount from all the loans awarded in the same time period?\n",
    "3. What are the minimun and maximum amounts of the awarded contracts?"
   ]
  },
  {
   "cell_type": "code",
   "execution_count": 12,
   "metadata": {},
   "outputs": [
    {
     "name": "stdout",
     "output_type": "stream",
     "text": [
      "+-------+------------------+\n",
      "|summary|       TotalAmount|\n",
      "+-------+------------------+\n",
      "|  count|            147959|\n",
      "|   mean|1147646.8110219722|\n",
      "| stddev|  8895662.08531883|\n",
      "|    min|             -2158|\n",
      "|    max|        1100669377|\n",
      "+-------+------------------+\n",
      "\n"
     ]
    }
   ],
   "source": [
    "WBAnalyze.describe(\"TotalAmount\").show()"
   ]
  },
  {
   "cell_type": "markdown",
   "metadata": {},
   "source": [
    "4. What is the total amount in USD that the World Bank has loaned from 2004 to 2018?"
   ]
  },
  {
   "cell_type": "code",
   "execution_count": 13,
   "metadata": {},
   "outputs": [
    {
     "name": "stdout",
     "output_type": "stream",
     "text": [
      "+----------------+\n",
      "|sum(TotalAmount)|\n",
      "+----------------+\n",
      "|    169804674512|\n",
      "+----------------+\n",
      "\n"
     ]
    }
   ],
   "source": [
    "WBAnalyze.agg(f.sum(\"TotalAmount\")).show()"
   ]
  },
  {
   "cell_type": "markdown",
   "metadata": {},
   "source": [
    "5. What is the total amount in USD that the World Bank has loaned on each year from 2004 to 2018?\n",
    "   Which are the years with the highest and lowest loans?"
   ]
  },
  {
   "cell_type": "code",
   "execution_count": 14,
   "metadata": {},
   "outputs": [
    {
     "name": "stdout",
     "output_type": "stream",
     "text": [
      "+----+----------------+\n",
      "|Year|sum(TotalAmount)|\n",
      "+----+----------------+\n",
      "|2007|      9931846617|\n",
      "|2018|       813062252|\n",
      "|2015|     11760574689|\n",
      "|2006|      8057177769|\n",
      "|2013|     14836428497|\n",
      "|null|            null|\n",
      "|2014|     14187169010|\n",
      "|2004|      8788488716|\n",
      "|2012|     15914796289|\n",
      "|2009|     10936652615|\n",
      "|2016|     13853670627|\n",
      "|2005|      9454535318|\n",
      "|2010|     12684114826|\n",
      "|2011|     15391369323|\n",
      "|2008|     12492580431|\n",
      "|2017|     10702207533|\n",
      "| 788|            null|\n",
      "+----+----------------+\n",
      "\n"
     ]
    }
   ],
   "source": [
    "WBAnalyze.groupBy(\"Year\").sum(\"TotalAmount\").show()"
   ]
  },
  {
   "cell_type": "markdown",
   "metadata": {},
   "source": [
    "6. From the previous query, we can see that we have some Null and incorrect values (788) for the variable Year. We want to know how many do we have, to asses the feasibility of removing those rows."
   ]
  },
  {
   "cell_type": "code",
   "execution_count": 15,
   "metadata": {},
   "outputs": [
    {
     "name": "stdout",
     "output_type": "stream",
     "text": [
      "+----+-----+\n",
      "|Year|count|\n",
      "+----+-----+\n",
      "|null| 3187|\n",
      "| 788|    1|\n",
      "|2004|14513|\n",
      "|2005|14281|\n",
      "|2006|11858|\n",
      "|2007| 9245|\n",
      "|2008| 9192|\n",
      "|2009|10149|\n",
      "|2010|12023|\n",
      "|2011|12243|\n",
      "|2012|12907|\n",
      "|2013|12313|\n",
      "|2014|12016|\n",
      "|2015|10169|\n",
      "|2016| 6787|\n",
      "|2017| 3640|\n",
      "|2018|  287|\n",
      "+----+-----+\n",
      "\n"
     ]
    }
   ],
   "source": [
    "WBAnalyze.groupBy(\"Year\").count().orderBy(\"Year\").show()"
   ]
  },
  {
   "cell_type": "code",
   "execution_count": 16,
   "metadata": {},
   "outputs": [
    {
     "name": "stdout",
     "output_type": "stream",
     "text": [
      "+----+-----+\n",
      "|Year|count|\n",
      "+----+-----+\n",
      "|null| 3187|\n",
      "| 788|    1|\n",
      "+----+-----+\n",
      "\n"
     ]
    }
   ],
   "source": [
    "WBAnalyze\\\n",
    "        .where(\"Year = 788 or Year is null\")\\\n",
    "        .groupBy(\"Year\").count().show()"
   ]
  },
  {
   "cell_type": "markdown",
   "metadata": {},
   "source": [
    "We can see that the number of Null and incorrect values is not high (~ 2%). Therefore I have decided to remove them to get a clear picture of the total Number and Total Amount of Loans Awarded on each Year:"
   ]
  },
  {
   "cell_type": "code",
   "execution_count": 17,
   "metadata": {},
   "outputs": [],
   "source": [
    "WBClean = WBAnalyze\\\n",
    "            .dropna(subset=[\"Year\"])\\\n",
    "            .where(\"Year != 788\")"
   ]
  },
  {
   "cell_type": "code",
   "execution_count": 18,
   "metadata": {},
   "outputs": [
    {
     "name": "stdout",
     "output_type": "stream",
     "text": [
      "+----+-----+\n",
      "|Year|count|\n",
      "+----+-----+\n",
      "|2004|14513|\n",
      "|2005|14281|\n",
      "|2006|11858|\n",
      "|2007| 9245|\n",
      "|2008| 9192|\n",
      "|2009|10149|\n",
      "|2010|12023|\n",
      "|2011|12243|\n",
      "|2012|12907|\n",
      "|2013|12313|\n",
      "|2014|12016|\n",
      "|2015|10169|\n",
      "|2016| 6787|\n",
      "|2017| 3640|\n",
      "|2018|  287|\n",
      "+----+-----+\n",
      "\n"
     ]
    }
   ],
   "source": [
    "WBClean.groupBy(\"Year\").count().orderBy(\"Year\").show()"
   ]
  },
  {
   "cell_type": "markdown",
   "metadata": {},
   "source": [
    "7. What is the list of geographical Regions in which the loans have been granted worldwide?"
   ]
  },
  {
   "cell_type": "code",
   "execution_count": 19,
   "metadata": {
    "scrolled": false
   },
   "outputs": [
    {
     "name": "stdout",
     "output_type": "stream",
     "text": [
      "+----------------------------+\n",
      "|Region                      |\n",
      "+----------------------------+\n",
      "|LATIN AMERICA AND CARIBBEAN |\n",
      "|SOUTH ASIA                  |\n",
      "|OTHER                       |\n",
      "|AFRICA                      |\n",
      "|MIDDLE EAST AND NORTH AFRICA|\n",
      "|EAST ASIA AND PACIFIC       |\n",
      "|EUROPE AND CENTRAL ASIA     |\n",
      "+----------------------------+\n",
      "\n"
     ]
    }
   ],
   "source": [
    "WBClean.select(\"Region\").distinct().show(20,False)"
   ]
  },
  {
   "cell_type": "markdown",
   "metadata": {},
   "source": [
    "8. What is the total amount in USD that the World Bank has awarded for each Region? Which are the Regions with the highest and lowest amounts?"
   ]
  },
  {
   "cell_type": "code",
   "execution_count": 20,
   "metadata": {},
   "outputs": [
    {
     "name": "stdout",
     "output_type": "stream",
     "text": [
      "+----------------------------+------------+\n",
      "|Region                      |SumPerRegion|\n",
      "+----------------------------+------------+\n",
      "|AFRICA                      |42351174243 |\n",
      "|SOUTH ASIA                  |33324159096 |\n",
      "|EAST ASIA AND PACIFIC       |30746079077 |\n",
      "|EUROPE AND CENTRAL ASIA     |28299487362 |\n",
      "|LATIN AMERICA AND CARIBBEAN |23974043540 |\n",
      "|MIDDLE EAST AND NORTH AFRICA|11101262642 |\n",
      "|OTHER                       |8468552     |\n",
      "+----------------------------+------------+\n",
      "\n"
     ]
    }
   ],
   "source": [
    "WBClean\\\n",
    "        .groupBy(\"Region\")\\\n",
    "        .sum(\"TotalAmount\").withColumnRenamed(\"sum(TotalAmount)\",\"SumPerRegion\").orderBy(\"SumPerRegion\",ascending=False)\\\n",
    "        .show(20,False)"
   ]
  },
  {
   "cell_type": "code",
   "execution_count": 21,
   "metadata": {},
   "outputs": [
    {
     "name": "stdout",
     "output_type": "stream",
     "text": [
      "+----------------------------+-----+\n",
      "|Region                      |count|\n",
      "+----------------------------+-----+\n",
      "|AFRICA                      |39926|\n",
      "|EUROPE AND CENTRAL ASIA     |30458|\n",
      "|LATIN AMERICA AND CARIBBEAN |30088|\n",
      "|EAST ASIA AND PACIFIC       |23617|\n",
      "|SOUTH ASIA                  |19253|\n",
      "|MIDDLE EAST AND NORTH AFRICA|8206 |\n",
      "|OTHER                       |75   |\n",
      "+----------------------------+-----+\n",
      "\n"
     ]
    }
   ],
   "source": [
    "WBClean.groupBy(\"Region\").count().orderBy(\"count\",ascending=False).show(20,False)"
   ]
  },
  {
   "cell_type": "markdown",
   "metadata": {},
   "source": [
    "### 3. African Region: \n",
    "We can see that Africa is the region with both the highest count and highest amount of loans awarded. As stated before, from now on we will focus our analysis on this region, as it is considered to be the poorest continent in the world and therefore, it is the main focus of the World Bank's project."
   ]
  },
  {
   "cell_type": "markdown",
   "metadata": {},
   "source": [
    "9. We will create a new Dataframe specificly to study and generate insights regarding loans awarded to the African Continent in the last 10 years."
   ]
  },
  {
   "cell_type": "code",
   "execution_count": 22,
   "metadata": {},
   "outputs": [],
   "source": [
    "AfricaDF = WBClean\\\n",
    "            .filter(f.col(\"Region\") == 'AFRICA')\\\n",
    "            .filter(f.col(\"Year\") > '2008')\\\n",
    "            .select(\"Year\",\"Country\",\"Category\",\"Sector\",\"TotalAmount\")"
   ]
  },
  {
   "cell_type": "code",
   "execution_count": 23,
   "metadata": {},
   "outputs": [
    {
     "name": "stdout",
     "output_type": "stream",
     "text": [
      "+----+---------------------+-------------------+-------------------------------------------+-----------+\n",
      "|Year|Country              |Category           |Sector                                     |TotalAmount|\n",
      "+----+---------------------+-------------------+-------------------------------------------+-----------+\n",
      "|2009|Africa               |CONSULTANT SERVICES|Public Administration                      |184365     |\n",
      "|2009|Burkina Faso         |CONSULTANT SERVICES|Public Administration                      |258926     |\n",
      "|2009|Guinea               |GOODS              |Public Administration                      |468583     |\n",
      "|2009|Madagascar           |CONSULTANT SERVICES|Health                                     |54788      |\n",
      "|2009|Madagascar           |CONSULTANT SERVICES|Social Protection                          |101750     |\n",
      "|2009|Sao Tome and Principe|GOODS              |Public Administration                      |945657     |\n",
      "|2009|Tanzania             |CONSULTANT SERVICES|Water, Sanitation and Waste Management     |354833     |\n",
      "|2009|Zambia               |CONSULTANT SERVICES|Agriculture, Fishing and Forestry          |40000      |\n",
      "|2009|Africa               |CONSULTANT SERVICES|Information and Communications Technologies|178201     |\n",
      "|2009|Burundi              |CIVIL WORKS        |Transportation                             |533286     |\n",
      "+----+---------------------+-------------------+-------------------------------------------+-----------+\n",
      "only showing top 10 rows\n",
      "\n"
     ]
    },
    {
     "data": {
      "text/plain": [
       "DataFrame[Year: int, Country: string, Category: string, Sector: string, TotalAmount: int]"
      ]
     },
     "execution_count": 23,
     "metadata": {},
     "output_type": "execute_result"
    }
   ],
   "source": [
    "AfricaDF.show(10,False)\n",
    "AfricaDF.cache()"
   ]
  },
  {
   "cell_type": "markdown",
   "metadata": {},
   "source": [
    "10. What is the total amount in USD that the World Bank has loaned to the Region Africa on each of the last 10 years? Which are the years with the highest and lowest loans?"
   ]
  },
  {
   "cell_type": "code",
   "execution_count": 24,
   "metadata": {},
   "outputs": [
    {
     "name": "stdout",
     "output_type": "stream",
     "text": [
      "+----+----------------+\n",
      "|Year|sum(TotalAmount)|\n",
      "+----+----------------+\n",
      "|2009|      2746476663|\n",
      "|2010|      2937655252|\n",
      "|2011|      5255941408|\n",
      "|2012|      4947060538|\n",
      "|2013|      3676230363|\n",
      "|2014|      3771698114|\n",
      "|2015|      2946419719|\n",
      "|2016|      2861158986|\n",
      "|2017|      3187819310|\n",
      "|2018|       302344227|\n",
      "+----+----------------+\n",
      "\n"
     ]
    }
   ],
   "source": [
    "AfricaDF\\\n",
    "        .groupBy(\"Year\")\\\n",
    "        .sum(\"TotalAmount\")\\\n",
    "        .orderBy(\"Year\").show()"
   ]
  },
  {
   "cell_type": "code",
   "execution_count": 25,
   "metadata": {},
   "outputs": [
    {
     "name": "stdout",
     "output_type": "stream",
     "text": [
      "+----+----------+\n",
      "|Year|  MaxValue|\n",
      "+----+----------+\n",
      "|2011|5255941408|\n",
      "+----+----------+\n",
      "only showing top 1 row\n",
      "\n"
     ]
    }
   ],
   "source": [
    "AfricaDF\\\n",
    "        .groupBy(\"Year\")\\\n",
    "        .sum(\"TotalAmount\").withColumnRenamed('sum(TotalAmount)', 'MaxValue')\\\n",
    "        .orderBy(\"MaxValue\", ascending=False).show(1)"
   ]
  },
  {
   "cell_type": "code",
   "execution_count": 26,
   "metadata": {},
   "outputs": [
    {
     "name": "stdout",
     "output_type": "stream",
     "text": [
      "+----+---------+\n",
      "|Year| MinValue|\n",
      "+----+---------+\n",
      "|2018|302344227|\n",
      "+----+---------+\n",
      "only showing top 1 row\n",
      "\n"
     ]
    }
   ],
   "source": [
    "AfricaDF\\\n",
    "        .groupBy(\"Year\")\\\n",
    "        .sum(\"TotalAmount\").withColumnRenamed('sum(TotalAmount)', 'MinValue')\\\n",
    "        .orderBy(\"MinValue\", ascending=True).show(1)"
   ]
  },
  {
   "cell_type": "markdown",
   "metadata": {},
   "source": [
    "11. How many loans have been awarded per year?"
   ]
  },
  {
   "cell_type": "code",
   "execution_count": 27,
   "metadata": {},
   "outputs": [
    {
     "name": "stdout",
     "output_type": "stream",
     "text": [
      "+----+-----+\n",
      "|Year|count|\n",
      "+----+-----+\n",
      "|2009| 2757|\n",
      "|2010| 2754|\n",
      "|2011| 2742|\n",
      "|2012| 3219|\n",
      "|2013| 3127|\n",
      "|2014| 3516|\n",
      "|2015| 2621|\n",
      "|2016| 1652|\n",
      "|2017| 1272|\n",
      "|2018|  181|\n",
      "+----+-----+\n",
      "\n"
     ]
    }
   ],
   "source": [
    "AfricaDF.groupBy(\"Year\").count().orderBy(\"Year\").show()"
   ]
  },
  {
   "cell_type": "markdown",
   "metadata": {},
   "source": [
    "12. We can see that the amount and count of loans for 2018 is considerably lower. This is because the dataset has been generated on that year and the data does not cover the complete time frame for it. In order to compare 2018 with the rest of the years in a different way, we will calculate the Average amount per granted loan on each year:"
   ]
  },
  {
   "cell_type": "code",
   "execution_count": 28,
   "metadata": {},
   "outputs": [
    {
     "name": "stdout",
     "output_type": "stream",
     "text": [
      "+----+------------------+\n",
      "|Year|AvgAmount         |\n",
      "+----+------------------+\n",
      "|2017|2528008.969072165 |\n",
      "|2011|1984872.1329305137|\n",
      "|2016|1785991.8764044943|\n",
      "|2018|1670410.0939226518|\n",
      "|2012|1621987.0616393443|\n",
      "|2013|1248295.5392190153|\n",
      "|2015|1160464.6392280424|\n",
      "|2014|1105421.4871043377|\n",
      "|2010|1089230.7200593252|\n",
      "|2009|1012339.352377442 |\n",
      "+----+------------------+\n",
      "\n"
     ]
    }
   ],
   "source": [
    "AfricaDF.groupBy(\"Year\").agg(f.mean(\"TotalAmount\").alias(\"AvgAmount\"))\\\n",
    "           .orderBy(\"AvgAmount\",ascending=False).show(10,False)"
   ]
  },
  {
   "cell_type": "markdown",
   "metadata": {},
   "source": [
    "13. What is the list of different Categories for which the loans are granted in this continent?"
   ]
  },
  {
   "cell_type": "code",
   "execution_count": 29,
   "metadata": {},
   "outputs": [
    {
     "name": "stdout",
     "output_type": "stream",
     "text": [
      "+-----------------------+\n",
      "|Category               |\n",
      "+-----------------------+\n",
      "|GOODS                  |\n",
      "|Not assigned           |\n",
      "|CIVIL WORKS            |\n",
      "|CONSULTANT SERVICES    |\n",
      "|NON-CONSULTING SERVICES|\n",
      "+-----------------------+\n",
      "\n"
     ]
    }
   ],
   "source": [
    "AfricaDF.select(\"Category\").distinct().show(20, False)"
   ]
  },
  {
   "cell_type": "markdown",
   "metadata": {},
   "source": [
    "14. What is the total amount in USD that has been granted for each Category in the last 10 years?"
   ]
  },
  {
   "cell_type": "code",
   "execution_count": 30,
   "metadata": {
    "scrolled": true
   },
   "outputs": [
    {
     "name": "stdout",
     "output_type": "stream",
     "text": [
      "+-----------------------+----------------+\n",
      "|Category               |sum(TotalAmount)|\n",
      "+-----------------------+----------------+\n",
      "|GOODS                  |6750654346      |\n",
      "|Not assigned           |2177233685      |\n",
      "|CIVIL WORKS            |17211096942     |\n",
      "|CONSULTANT SERVICES    |6100963189      |\n",
      "|NON-CONSULTING SERVICES|392856418       |\n",
      "+-----------------------+----------------+\n",
      "\n"
     ]
    }
   ],
   "source": [
    "AfricaDF.groupBy(\"Category\").sum(\"TotalAmount\").show(20,False)"
   ]
  },
  {
   "cell_type": "markdown",
   "metadata": {},
   "source": [
    "15. What are the 10 African countries that have received the highest amount in USD as loans in the last 10 years?"
   ]
  },
  {
   "cell_type": "code",
   "execution_count": 31,
   "metadata": {},
   "outputs": [
    {
     "name": "stdout",
     "output_type": "stream",
     "text": [
      "+-----------------------------+----------+\n",
      "|Country                      |TotalSum  |\n",
      "+-----------------------------+----------+\n",
      "|Africa                       |3827720124|\n",
      "|Ethiopia                     |3540487927|\n",
      "|South Africa                 |3053722422|\n",
      "|Nigeria                      |2793922760|\n",
      "|Kenya                        |2315083923|\n",
      "|Congo, Democratic Republic of|1829425634|\n",
      "|Western Africa               |1816948253|\n",
      "|Tanzania                     |1238251951|\n",
      "|Mozambique                   |1033955286|\n",
      "|Uganda                       |930474147 |\n",
      "+-----------------------------+----------+\n",
      "only showing top 10 rows\n",
      "\n"
     ]
    }
   ],
   "source": [
    "AfricaDF.groupBy(\"Country\")\\\n",
    "           .agg(f.sum(\"TotalAmount\")\\\n",
    "                .alias(\"TotalSum\"))\\\n",
    "           .orderBy(\"TotalSum\",ascending=False).show(10,False)"
   ]
  },
  {
   "cell_type": "markdown",
   "metadata": {},
   "source": [
    "16. What are the 10 African countries that have received the highest number of loans in the last 10 years?"
   ]
  },
  {
   "cell_type": "code",
   "execution_count": 32,
   "metadata": {},
   "outputs": [
    {
     "name": "stdout",
     "output_type": "stream",
     "text": [
      "+-----------------------------+-----+\n",
      "|Country                      |count|\n",
      "+-----------------------------+-----+\n",
      "|Africa                       |1936 |\n",
      "|Congo, Democratic Republic of|1801 |\n",
      "|Cote d'Ivoire                |1233 |\n",
      "|Nigeria                      |1222 |\n",
      "|Western Africa               |1115 |\n",
      "|Liberia                      |1046 |\n",
      "|Madagascar                   |909  |\n",
      "|Kenya                        |905  |\n",
      "|Uganda                       |898  |\n",
      "|Benin                        |877  |\n",
      "+-----------------------------+-----+\n",
      "only showing top 10 rows\n",
      "\n"
     ]
    }
   ],
   "source": [
    "AfricaDF\\\n",
    "        .select(\"Country\",\"Category\")\\\n",
    "        .groupBy(\"Country\").count().orderBy('count',ascending=False).show(10,False)"
   ]
  },
  {
   "cell_type": "markdown",
   "metadata": {},
   "source": [
    "17. Lastly, we will generate a new column that will assign a Numeric value to each of the values in the Category variable. This encoding will help us in the future when we train a model to generate insights and classify the different types of loans automatically:"
   ]
  },
  {
   "cell_type": "code",
   "execution_count": 33,
   "metadata": {},
   "outputs": [
    {
     "name": "stdout",
     "output_type": "stream",
     "text": [
      "root\n",
      " |-- Year: integer (nullable = true)\n",
      " |-- Country: string (nullable = true)\n",
      " |-- Category: string (nullable = true)\n",
      " |-- Sector: string (nullable = true)\n",
      " |-- TotalAmount: integer (nullable = true)\n",
      " |-- NumCategory: integer (nullable = false)\n",
      "\n"
     ]
    }
   ],
   "source": [
    "AfricaM = AfricaDF.withColumn(\"NumCategory\", f.when(f.col(\"Category\") == \"GOODS\", 1)\\\n",
    "                                                           .when(f.col(\"Category\") == \"CIVIL WORKS\", 2)\\\n",
    "                                                           .when(f.col(\"Category\") == \"CONSULTANT SERVICES\", 3)\\\n",
    "                                                           .when(f.col(\"Category\") == \"NON-CONSULTING SERVICES\", 4)\\\n",
    "                                                           .otherwise(0))\n",
    "AfricaM.printSchema()"
   ]
  },
  {
   "cell_type": "code",
   "execution_count": 34,
   "metadata": {},
   "outputs": [
    {
     "name": "stdout",
     "output_type": "stream",
     "text": [
      "+----+--------------------+-------------------+--------------------+-----------+-----------+\n",
      "|Year|             Country|           Category|              Sector|TotalAmount|NumCategory|\n",
      "+----+--------------------+-------------------+--------------------+-----------+-----------+\n",
      "|2009|              Africa|CONSULTANT SERVICES|Public Administra...|     184365|          3|\n",
      "|2009|        Burkina Faso|CONSULTANT SERVICES|Public Administra...|     258926|          3|\n",
      "|2009|              Guinea|              GOODS|Public Administra...|     468583|          1|\n",
      "|2009|          Madagascar|CONSULTANT SERVICES|              Health|      54788|          3|\n",
      "|2009|          Madagascar|CONSULTANT SERVICES|   Social Protection|     101750|          3|\n",
      "|2009|Sao Tome and Prin...|              GOODS|Public Administra...|     945657|          1|\n",
      "|2009|            Tanzania|CONSULTANT SERVICES|Water, Sanitation...|     354833|          3|\n",
      "|2009|              Zambia|CONSULTANT SERVICES|Agriculture, Fish...|      40000|          3|\n",
      "|2009|              Africa|CONSULTANT SERVICES|Information and C...|     178201|          3|\n",
      "|2009|             Burundi|        CIVIL WORKS|      Transportation|     533286|          2|\n",
      "|2009|             Burundi|        CIVIL WORKS|      Transportation|     861451|          2|\n",
      "|2009|             Burundi|        CIVIL WORKS|      Transportation|     677151|          2|\n",
      "|2009|            Ethiopia|              GOODS|    Financial Sector|     180496|          1|\n",
      "|2009|               Gabon|CONSULTANT SERVICES|(Historic)Health ...|      75562|          3|\n",
      "|2009|               Gabon|CONSULTANT SERVICES|(Historic)Health ...|      76433|          3|\n",
      "|2009|         Gambia, The|              GOODS|           Education|      47454|          1|\n",
      "|2009|             Lesotho|              GOODS|(Historic)Health ...|     742349|          1|\n",
      "|2009|          Madagascar|        CIVIL WORKS|Energy and Extrac...|     433589|          2|\n",
      "|2009|             Nigeria|CONSULTANT SERVICES|    Financial Sector|    1071612|          3|\n",
      "|2009|            Cameroon|CONSULTANT SERVICES|Public Administra...|     109062|          3|\n",
      "+----+--------------------+-------------------+--------------------+-----------+-----------+\n",
      "only showing top 20 rows\n",
      "\n"
     ]
    }
   ],
   "source": [
    "AfricaM.show()"
   ]
  },
  {
   "cell_type": "markdown",
   "metadata": {},
   "source": [
    "Our DataFrame (AfricaM) for training a model is now ready to use!"
   ]
  }
 ],
 "metadata": {
  "kernelspec": {
   "display_name": "Python 3",
   "language": "python",
   "name": "python3"
  },
  "language_info": {
   "codemirror_mode": {
    "name": "ipython",
    "version": 3
   },
   "file_extension": ".py",
   "mimetype": "text/x-python",
   "name": "python",
   "nbconvert_exporter": "python",
   "pygments_lexer": "ipython3",
   "version": "3.7.4"
  }
 },
 "nbformat": 4,
 "nbformat_minor": 2
}
